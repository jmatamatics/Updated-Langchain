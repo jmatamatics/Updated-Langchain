{
 "cells": [
  {
   "cell_type": "code",
   "execution_count": 3,
   "metadata": {},
   "outputs": [
    {
     "name": "stdout",
     "output_type": "stream",
     "text": [
      "Collecting arxiv\n",
      "  Using cached arxiv-2.1.0-py3-none-any.whl.metadata (6.1 kB)\n",
      "Collecting feedparser==6.0.10 (from arxiv)\n",
      "  Using cached feedparser-6.0.10-py3-none-any.whl.metadata (2.3 kB)\n",
      "Requirement already satisfied: requests==2.31.0 in e:\\langchain\\venv\\lib\\site-packages (from arxiv) (2.31.0)\n",
      "Collecting sgmllib3k (from feedparser==6.0.10->arxiv)\n",
      "  Using cached sgmllib3k-1.0.0-py3-none-any.whl\n",
      "Requirement already satisfied: charset-normalizer<4,>=2 in e:\\langchain\\venv\\lib\\site-packages (from requests==2.31.0->arxiv) (3.3.2)\n",
      "Requirement already satisfied: idna<4,>=2.5 in e:\\langchain\\venv\\lib\\site-packages (from requests==2.31.0->arxiv) (3.6)\n",
      "Requirement already satisfied: urllib3<3,>=1.21.1 in e:\\langchain\\venv\\lib\\site-packages (from requests==2.31.0->arxiv) (2.2.1)\n",
      "Requirement already satisfied: certifi>=2017.4.17 in e:\\langchain\\venv\\lib\\site-packages (from requests==2.31.0->arxiv) (2024.2.2)\n",
      "Using cached arxiv-2.1.0-py3-none-any.whl (11 kB)\n",
      "Using cached feedparser-6.0.10-py3-none-any.whl (81 kB)\n",
      "Installing collected packages: sgmllib3k, feedparser, arxiv\n",
      "Successfully installed arxiv-2.1.0 feedparser-6.0.10 sgmllib3k-1.0.0\n"
     ]
    }
   ],
   "source": [
    "!pip install arxiv"
   ]
  },
  {
   "cell_type": "code",
   "execution_count": 23,
   "metadata": {},
   "outputs": [],
   "source": [
    "from langchain_community.tools import WikipediaQueryRun\n",
    "from langchain_community.utilities import WikipediaAPIWrapper"
   ]
  },
  {
   "cell_type": "code",
   "execution_count": 2,
   "metadata": {},
   "outputs": [],
   "source": [
    "api_wrapper=WikipediaAPIWrapper(top_k_results=1,doc_content_chars_max=200)\n",
    "wiki=WikipediaQueryRun(api_wrapper=api_wrapper)"
   ]
  },
  {
   "cell_type": "code",
   "execution_count": 3,
   "metadata": {},
   "outputs": [
    {
     "data": {
      "text/plain": [
       "'wikipedia'"
      ]
     },
     "execution_count": 3,
     "metadata": {},
     "output_type": "execute_result"
    }
   ],
   "source": [
    "wiki.name"
   ]
  },
  {
   "cell_type": "code",
   "execution_count": 4,
   "metadata": {},
   "outputs": [
    {
     "data": {
      "text/plain": [
       "VectorStoreRetriever(tags=['FAISS', 'OpenAIEmbeddings'], vectorstore=<langchain_community.vectorstores.faiss.FAISS object at 0x7f9728ebebf0>)"
      ]
     },
     "execution_count": 4,
     "metadata": {},
     "output_type": "execute_result"
    }
   ],
   "source": [
    "from langchain_community.document_loaders import WebBaseLoader\n",
    "from langchain_community.vectorstores import FAISS\n",
    "from langchain_openai import OpenAIEmbeddings\n",
    "from langchain_text_splitters import RecursiveCharacterTextSplitter\n",
    "\n",
    "loader=WebBaseLoader(\"https://docs.smith.langchain.com/\")\n",
    "docs=loader.load()\n",
    "documents=RecursiveCharacterTextSplitter(chunk_size=1000,chunk_overlap=200).split_documents(docs)\n",
    "vectordb=FAISS.from_documents(documents,OpenAIEmbeddings())\n",
    "retriever=vectordb.as_retriever()\n",
    "retriever\n"
   ]
  },
  {
   "cell_type": "code",
   "execution_count": 5,
   "metadata": {},
   "outputs": [],
   "source": [
    "from langchain.tools.retriever import create_retriever_tool\n",
    "retriever_tool=create_retriever_tool(retriever,\"langsmith_search\",\n",
    "                      \"Search for information about LangSmith. For any questions about LangSmith, you must use this tool!\")"
   ]
  },
  {
   "cell_type": "code",
   "execution_count": 6,
   "metadata": {},
   "outputs": [
    {
     "data": {
      "text/plain": [
       "'langsmith_search'"
      ]
     },
     "execution_count": 6,
     "metadata": {},
     "output_type": "execute_result"
    }
   ],
   "source": [
    "retriever_tool.name"
   ]
  },
  {
   "cell_type": "code",
   "execution_count": null,
   "metadata": {},
   "outputs": [],
   "source": []
  },
  {
   "cell_type": "code",
   "execution_count": 7,
   "metadata": {},
   "outputs": [
    {
     "data": {
      "text/plain": [
       "'arxiv'"
      ]
     },
     "execution_count": 7,
     "metadata": {},
     "output_type": "execute_result"
    }
   ],
   "source": [
    "## Arxiv Tool\n",
    "from langchain_community.utilities import ArxivAPIWrapper\n",
    "from langchain_community.tools import ArxivQueryRun\n",
    "\n",
    "arxiv_wrapper=ArxivAPIWrapper(top_k_results=1, doc_content_chars_max=200)\n",
    "arxiv=ArxivQueryRun(api_wrapper=arxiv_wrapper)\n",
    "arxiv.name"
   ]
  },
  {
   "cell_type": "code",
   "execution_count": 8,
   "metadata": {},
   "outputs": [],
   "source": [
    "tools=[wiki,arxiv,retriever_tool]"
   ]
  },
  {
   "cell_type": "code",
   "execution_count": 9,
   "metadata": {},
   "outputs": [
    {
     "data": {
      "text/plain": [
       "[WikipediaQueryRun(api_wrapper=WikipediaAPIWrapper(wiki_client=<module 'wikipedia' from '/Users/josephmata/Documents/Updated-Langchain/venv/lib/python3.10/site-packages/wikipedia/__init__.py'>, top_k_results=1, lang='en', load_all_available_meta=False, doc_content_chars_max=200)),\n",
       " ArxivQueryRun(api_wrapper=ArxivAPIWrapper(arxiv_search=<class 'arxiv.Search'>, arxiv_exceptions=(<class 'arxiv.ArxivError'>, <class 'arxiv.UnexpectedEmptyPageError'>, <class 'arxiv.HTTPError'>), top_k_results=1, ARXIV_MAX_QUERY_LENGTH=300, load_max_docs=100, load_all_available_meta=False, doc_content_chars_max=200, arxiv_result=<class 'arxiv.Result'>)),\n",
       " Tool(name='langsmith_search', description='Search for information about LangSmith. For any questions about LangSmith, you must use this tool!', args_schema=<class 'langchain.tools.retriever.RetrieverInput'>, func=functools.partial(<function _get_relevant_documents at 0x7f9728d71a20>, retriever=VectorStoreRetriever(tags=['FAISS', 'OpenAIEmbeddings'], vectorstore=<langchain_community.vectorstores.faiss.FAISS object at 0x7f9728ebebf0>), document_prompt=PromptTemplate(input_variables=['page_content'], template='{page_content}'), document_separator='\\n\\n'), coroutine=functools.partial(<function _aget_relevant_documents at 0x7f9728d71ab0>, retriever=VectorStoreRetriever(tags=['FAISS', 'OpenAIEmbeddings'], vectorstore=<langchain_community.vectorstores.faiss.FAISS object at 0x7f9728ebebf0>), document_prompt=PromptTemplate(input_variables=['page_content'], template='{page_content}'), document_separator='\\n\\n'))]"
      ]
     },
     "execution_count": 9,
     "metadata": {},
     "output_type": "execute_result"
    }
   ],
   "source": [
    "tools"
   ]
  },
  {
   "cell_type": "code",
   "execution_count": 10,
   "metadata": {},
   "outputs": [],
   "source": [
    "from dotenv import load_dotenv\n",
    "\n",
    "load_dotenv()\n",
    "import os\n",
    "os.environ['OPENAI_API_KEY']=os.getenv(\"OPENAI_API_KEY\")\n",
    "from langchain_openai import ChatOpenAI\n",
    "\n",
    "llm = ChatOpenAI(model=\"gpt-3.5-turbo-0125\", temperature=0)"
   ]
  },
  {
   "cell_type": "code",
   "execution_count": 11,
   "metadata": {},
   "outputs": [
    {
     "data": {
      "text/plain": [
       "[SystemMessagePromptTemplate(prompt=PromptTemplate(input_variables=[], template='You are a helpful assistant')),\n",
       " MessagesPlaceholder(variable_name='chat_history', optional=True),\n",
       " HumanMessagePromptTemplate(prompt=PromptTemplate(input_variables=['input'], template='{input}')),\n",
       " MessagesPlaceholder(variable_name='agent_scratchpad')]"
      ]
     },
     "execution_count": 11,
     "metadata": {},
     "output_type": "execute_result"
    }
   ],
   "source": [
    "from langchain import hub\n",
    "# Get the prompt to use - you can modify this!\n",
    "prompt = hub.pull(\"hwchase17/openai-functions-agent\")\n",
    "prompt.messages"
   ]
  },
  {
   "cell_type": "code",
   "execution_count": 50,
   "metadata": {},
   "outputs": [],
   "source": [
    "### Agents\n",
    "from langchain.agents import create_openai_tools_agent\n",
    "agent=create_openai_tools_agent(llm,tools,prompt)"
   ]
  },
  {
   "cell_type": "code",
   "execution_count": 51,
   "metadata": {},
   "outputs": [
    {
     "data": {
      "text/plain": [
       "RunnableAssign(mapper={\n",
       "  agent_scratchpad: RunnableLambda(lambda x: format_to_openai_tool_messages(x['intermediate_steps']))\n",
       "})\n",
       "| ChatPromptTemplate(input_variables=['agent_scratchpad', 'input'], input_types={'chat_history': typing.List[typing.Union[langchain_core.messages.ai.AIMessage, langchain_core.messages.human.HumanMessage, langchain_core.messages.chat.ChatMessage, langchain_core.messages.system.SystemMessage, langchain_core.messages.function.FunctionMessage, langchain_core.messages.tool.ToolMessage]], 'agent_scratchpad': typing.List[typing.Union[langchain_core.messages.ai.AIMessage, langchain_core.messages.human.HumanMessage, langchain_core.messages.chat.ChatMessage, langchain_core.messages.system.SystemMessage, langchain_core.messages.function.FunctionMessage, langchain_core.messages.tool.ToolMessage]]}, metadata={'lc_hub_owner': 'hwchase17', 'lc_hub_repo': 'openai-functions-agent', 'lc_hub_commit_hash': 'a1655024b06afbd95d17449f21316291e0726f13dcfaf990cc0d18087ad689a5'}, messages=[SystemMessagePromptTemplate(prompt=PromptTemplate(input_variables=[], template='You are a helpful assistant')), MessagesPlaceholder(variable_name='chat_history', optional=True), HumanMessagePromptTemplate(prompt=PromptTemplate(input_variables=['input'], template='{input}')), MessagesPlaceholder(variable_name='agent_scratchpad')])\n",
       "| RunnableBinding(bound=ChatOpenAI(client=<openai.resources.chat.completions.Completions object at 0x7f9728cf5420>, async_client=<openai.resources.chat.completions.AsyncCompletions object at 0x7f9728cd8a00>, model_name='gpt-3.5-turbo-0125', temperature=0.0, openai_api_key=SecretStr('**********'), openai_proxy=''), kwargs={'tools': [{'type': 'function', 'function': {'name': 'wikipedia', 'description': 'A wrapper around Wikipedia. Useful for when you need to answer general questions about people, places, companies, facts, historical events, or other subjects. Input should be a search query.', 'parameters': {'properties': {'__arg1': {'title': '__arg1', 'type': 'string'}}, 'required': ['__arg1'], 'type': 'object'}}}, {'type': 'function', 'function': {'name': 'arxiv', 'description': 'A wrapper around Arxiv.org Useful for when you need to answer questions about Physics, Mathematics, Computer Science, Quantitative Biology, Quantitative Finance, Statistics, Electrical Engineering, and Economics from scientific articles on arxiv.org. Input should be a search query.', 'parameters': {'type': 'object', 'properties': {'query': {'description': 'search query to look up', 'type': 'string'}}, 'required': ['query']}}}, {'type': 'function', 'function': {'name': 'search', 'description': '', 'parameters': {'type': 'object', 'properties': {}, 'required': ['input']}}}]})\n",
       "| OpenAIToolsAgentOutputParser()"
      ]
     },
     "execution_count": 51,
     "metadata": {},
     "output_type": "execute_result"
    }
   ],
   "source": [
    "agent"
   ]
  },
  {
   "cell_type": "code",
   "execution_count": 13,
   "metadata": {},
   "outputs": [
    {
     "data": {
      "text/plain": [
       "AgentExecutor(verbose=True, agent=RunnableMultiActionAgent(runnable=RunnableAssign(mapper={\n",
       "  agent_scratchpad: RunnableLambda(lambda x: format_to_openai_tool_messages(x['intermediate_steps']))\n",
       "})\n",
       "| ChatPromptTemplate(input_variables=['agent_scratchpad', 'input'], input_types={'chat_history': typing.List[typing.Union[langchain_core.messages.ai.AIMessage, langchain_core.messages.human.HumanMessage, langchain_core.messages.chat.ChatMessage, langchain_core.messages.system.SystemMessage, langchain_core.messages.function.FunctionMessage, langchain_core.messages.tool.ToolMessage]], 'agent_scratchpad': typing.List[typing.Union[langchain_core.messages.ai.AIMessage, langchain_core.messages.human.HumanMessage, langchain_core.messages.chat.ChatMessage, langchain_core.messages.system.SystemMessage, langchain_core.messages.function.FunctionMessage, langchain_core.messages.tool.ToolMessage]]}, metadata={'lc_hub_owner': 'hwchase17', 'lc_hub_repo': 'openai-functions-agent', 'lc_hub_commit_hash': 'a1655024b06afbd95d17449f21316291e0726f13dcfaf990cc0d18087ad689a5'}, messages=[SystemMessagePromptTemplate(prompt=PromptTemplate(input_variables=[], template='You are a helpful assistant')), MessagesPlaceholder(variable_name='chat_history', optional=True), HumanMessagePromptTemplate(prompt=PromptTemplate(input_variables=['input'], template='{input}')), MessagesPlaceholder(variable_name='agent_scratchpad')])\n",
       "| RunnableBinding(bound=ChatOpenAI(client=<openai.resources.chat.completions.Completions object at 0x7f9728cf5420>, async_client=<openai.resources.chat.completions.AsyncCompletions object at 0x7f9728cd8a00>, model_name='gpt-3.5-turbo-0125', temperature=0.0, openai_api_key=SecretStr('**********'), openai_proxy=''), kwargs={'tools': [{'type': 'function', 'function': {'name': 'wikipedia', 'description': 'A wrapper around Wikipedia. Useful for when you need to answer general questions about people, places, companies, facts, historical events, or other subjects. Input should be a search query.', 'parameters': {'properties': {'__arg1': {'title': '__arg1', 'type': 'string'}}, 'required': ['__arg1'], 'type': 'object'}}}, {'type': 'function', 'function': {'name': 'arxiv', 'description': 'A wrapper around Arxiv.org Useful for when you need to answer questions about Physics, Mathematics, Computer Science, Quantitative Biology, Quantitative Finance, Statistics, Electrical Engineering, and Economics from scientific articles on arxiv.org. Input should be a search query.', 'parameters': {'type': 'object', 'properties': {'query': {'description': 'search query to look up', 'type': 'string'}}, 'required': ['query']}}}, {'type': 'function', 'function': {'name': 'langsmith_search', 'description': 'Search for information about LangSmith. For any questions about LangSmith, you must use this tool!', 'parameters': {'type': 'object', 'properties': {'query': {'description': 'query to look up in retriever', 'type': 'string'}}, 'required': ['query']}}}]})\n",
       "| OpenAIToolsAgentOutputParser(), input_keys_arg=[], return_keys_arg=[], stream_runnable=True), tools=[WikipediaQueryRun(api_wrapper=WikipediaAPIWrapper(wiki_client=<module 'wikipedia' from '/Users/josephmata/Documents/Updated-Langchain/venv/lib/python3.10/site-packages/wikipedia/__init__.py'>, top_k_results=1, lang='en', load_all_available_meta=False, doc_content_chars_max=200)), ArxivQueryRun(api_wrapper=ArxivAPIWrapper(arxiv_search=<class 'arxiv.Search'>, arxiv_exceptions=(<class 'arxiv.ArxivError'>, <class 'arxiv.UnexpectedEmptyPageError'>, <class 'arxiv.HTTPError'>), top_k_results=1, ARXIV_MAX_QUERY_LENGTH=300, load_max_docs=100, load_all_available_meta=False, doc_content_chars_max=200, arxiv_result=<class 'arxiv.Result'>)), Tool(name='langsmith_search', description='Search for information about LangSmith. For any questions about LangSmith, you must use this tool!', args_schema=<class 'langchain.tools.retriever.RetrieverInput'>, func=functools.partial(<function _get_relevant_documents at 0x7f9728d71a20>, retriever=VectorStoreRetriever(tags=['FAISS', 'OpenAIEmbeddings'], vectorstore=<langchain_community.vectorstores.faiss.FAISS object at 0x7f9728ebebf0>), document_prompt=PromptTemplate(input_variables=['page_content'], template='{page_content}'), document_separator='\\n\\n'), coroutine=functools.partial(<function _aget_relevant_documents at 0x7f9728d71ab0>, retriever=VectorStoreRetriever(tags=['FAISS', 'OpenAIEmbeddings'], vectorstore=<langchain_community.vectorstores.faiss.FAISS object at 0x7f9728ebebf0>), document_prompt=PromptTemplate(input_variables=['page_content'], template='{page_content}'), document_separator='\\n\\n'))])"
      ]
     },
     "execution_count": 13,
     "metadata": {},
     "output_type": "execute_result"
    }
   ],
   "source": [
    "## Agent Executer\n",
    "from langchain.agents import AgentExecutor\n",
    "agent_executor=AgentExecutor(agent=agent,tools=tools,verbose=True)\n",
    "agent_executor"
   ]
  },
  {
   "cell_type": "code",
   "execution_count": 14,
   "metadata": {},
   "outputs": [
    {
     "name": "stdout",
     "output_type": "stream",
     "text": [
      "\n",
      "\n",
      "\u001b[1m> Entering new AgentExecutor chain...\u001b[0m\n",
      "\u001b[32;1m\u001b[1;3m\n",
      "Invoking: `langsmith_search` with `{'query': 'Langsmith'}`\n",
      "\n",
      "\n",
      "\u001b[0m\u001b[38;5;200m\u001b[1;3mGetting started with LangSmith | 🦜️🛠️ LangSmith\n",
      "\n",
      "Skip to main contentLangSmith API DocsSearchGo to AppQuick StartUser GuideTracingEvaluationProduction Monitoring & AutomationsPrompt HubProxyPricingSelf-HostingCookbookQuick StartOn this pageGetting started with LangSmithIntroduction​LangSmith is a platform for building production-grade LLM applications. It allows you to closely monitor and evaluate your application, so you can ship quickly and with confidence. Use of LangChain is not necessary - LangSmith works on its own!Install LangSmith​We offer Python and Typescript SDKs for all your LangSmith needs.PythonTypeScriptpip install -U langsmithyarn add langchain langsmithCreate an API key​To create an API key head to the setting pages. Then click Create API Key.Setup your environment​Shellexport LANGCHAIN_TRACING_V2=trueexport LANGCHAIN_API_KEY=<your-api-key># The below examples use the OpenAI API, though it's not necessary in generalexport OPENAI_API_KEY=<your-openai-api-key>Log your first trace​We provide multiple ways to log traces\n",
      "\n",
      "Learn about the workflows LangSmith supports at each stage of the LLM application lifecycle.Pricing: Learn about the pricing model for LangSmith.Self-Hosting: Learn about self-hosting options for LangSmith.Proxy: Learn about the proxy capabilities of LangSmith.Tracing: Learn about the tracing capabilities of LangSmith.Evaluation: Learn about the evaluation capabilities of LangSmith.Prompt Hub Learn about the Prompt Hub, a prompt management tool built into LangSmith.Additional Resources​LangSmith Cookbook: A collection of tutorials and end-to-end walkthroughs using LangSmith.LangChain Python: Docs for the Python LangChain library.LangChain Python API Reference: documentation to review the core APIs of LangChain.LangChain JS: Docs for the TypeScript LangChain libraryDiscord: Join us on our Discord to discuss all things LangChain!FAQ​How do I migrate projects between organizations?​Currently we do not support project migration betwen organizations. While you can manually imitate this by\n",
      "\n",
      "team deals with sensitive data that cannot be logged. How can I ensure that only my team can access it?​If you are interested in a private deployment of LangSmith or if you need to self-host, please reach out to us at sales@langchain.dev. Self-hosting LangSmith requires an annual enterprise license that also comes with support and formalized access to the LangChain team.Was this page helpful?NextUser GuideIntroductionInstall LangSmithCreate an API keySetup your environmentLog your first traceCreate your first evaluationNext StepsAdditional ResourcesFAQHow do I migrate projects between organizations?Why aren't my runs aren't showing up in my project?My team deals with sensitive data that cannot be logged. How can I ensure that only my team can access it?CommunityDiscordTwitterGitHubDocs CodeLangSmith SDKPythonJS/TSMoreHomepageBlogLangChain Python DocsLangChain JS/TS DocsCopyright © 2024 LangChain, Inc.\u001b[0m\u001b[32;1m\u001b[1;3mLangSmith is a platform for building production-grade LLM (Large Language Model) applications. It allows you to closely monitor and evaluate your application, ensuring you can ship quickly and with confidence. LangSmith offers Python and Typescript SDKs for all your development needs. You can create an API key, set up your environment, and log your first trace using LangSmith. \n",
      "\n",
      "LangSmith supports various workflows at each stage of the LLM application lifecycle and provides capabilities for tracing, evaluation, pricing, self-hosting, and proxy functionalities. Additionally, LangSmith offers a Prompt Hub for prompt management and a Cookbook with tutorials and walkthroughs. \n",
      "\n",
      "If you have sensitive data that cannot be logged or need a private deployment of LangSmith, you can reach out to the LangChain team for self-hosting options. For more information, you can visit the LangSmith website or join their Discord community for discussions.\u001b[0m\n",
      "\n",
      "\u001b[1m> Finished chain.\u001b[0m\n"
     ]
    },
    {
     "data": {
      "text/plain": [
       "{'input': 'Tell me about Langsmith',\n",
       " 'output': 'LangSmith is a platform for building production-grade LLM (Large Language Model) applications. It allows you to closely monitor and evaluate your application, ensuring you can ship quickly and with confidence. LangSmith offers Python and Typescript SDKs for all your development needs. You can create an API key, set up your environment, and log your first trace using LangSmith. \\n\\nLangSmith supports various workflows at each stage of the LLM application lifecycle and provides capabilities for tracing, evaluation, pricing, self-hosting, and proxy functionalities. Additionally, LangSmith offers a Prompt Hub for prompt management and a Cookbook with tutorials and walkthroughs. \\n\\nIf you have sensitive data that cannot be logged or need a private deployment of LangSmith, you can reach out to the LangChain team for self-hosting options. For more information, you can visit the LangSmith website or join their Discord community for discussions.'}"
      ]
     },
     "execution_count": 14,
     "metadata": {},
     "output_type": "execute_result"
    }
   ],
   "source": [
    "agent_executor.invoke({\"input\":\"Tell me about Langsmith\"})"
   ]
  },
  {
   "cell_type": "code",
   "execution_count": 29,
   "metadata": {},
   "outputs": [
    {
     "name": "stdout",
     "output_type": "stream",
     "text": [
      "\n",
      "\n",
      "\u001b[1m> Entering new AgentExecutor chain...\u001b[0m\n",
      "\u001b[32;1m\u001b[1;3m\n",
      "Invoking: `arxiv` with `{'query': '1605.08386'}`\n",
      "\n",
      "\n",
      "\u001b[0m\u001b[33;1m\u001b[1;3mPublished: 2016-05-26\n",
      "Title: Heat-bath random walks with Markov bases\n",
      "Authors: Caprice Stanley, Tobias Windisch\n",
      "Summary: Graphs on lattice points are studied whose edges come from a finite set of\n",
      "allo\u001b[0m\u001b[32;1m\u001b[1;3mThe paper with the identifier 1605.08386 is titled \"Heat-bath random walks with Markov bases\" by Caprice Stanley and Tobias Windisch. It discusses the study of graphs on lattice points where the edges are derived from a finite set of allocations.\u001b[0m\n",
      "\n",
      "\u001b[1m> Finished chain.\u001b[0m\n"
     ]
    },
    {
     "data": {
      "text/plain": [
       "{'input': \"What's the paper 1605.08386 about?\",\n",
       " 'output': 'The paper with the identifier 1605.08386 is titled \"Heat-bath random walks with Markov bases\" by Caprice Stanley and Tobias Windisch. It discusses the study of graphs on lattice points where the edges are derived from a finite set of allocations.'}"
      ]
     },
     "execution_count": 29,
     "metadata": {},
     "output_type": "execute_result"
    }
   ],
   "source": [
    "agent_executor.invoke({\"input\":\"What's the paper 1605.08386 about?\"})"
   ]
  },
  {
   "cell_type": "code",
   "execution_count": 24,
   "metadata": {},
   "outputs": [
    {
     "name": "stdout",
     "output_type": "stream",
     "text": [
      "\n",
      "\n",
      "\u001b[1m> Entering new AgentExecutor chain...\u001b[0m\n",
      "\u001b[32;1m\u001b[1;3m\n",
      "Invoking: `realitycenter_search` with `{'query': 'Reality Center'}`\n",
      "\n",
      "\n",
      "\u001b[0m\u001b[38;5;200m\u001b[1;3mReality Center | Sensory Wellness Therapy | Santa Monica\n",
      "\n",
      "\n",
      "\n",
      "\n",
      "\n",
      "\n",
      "\n",
      "\n",
      "\n",
      "\n",
      "\n",
      "\n",
      "\n",
      "\n",
      "\n",
      "\n",
      "\n",
      "\n",
      "\n",
      "\n",
      "\n",
      "\n",
      "\n",
      "\n",
      "\n",
      "\n",
      "\n",
      "\n",
      "\n",
      "\n",
      "\n",
      "\n",
      "\n",
      "\n",
      "\n",
      "\n",
      "top of pageJOIN OUR COMMUNITY AND UNLOCK ACCESS TO EXCLUSIVE OFFERS & EVENTS! CLICK HERELog InHOMEABOUTPROCESSBOOK EXPERIENCEPACKAGESINITIATIVESAffiliatesWorkplace WellnessSupport A VeteranGIFT CARDFAQCONTACTMoreUse tab to navigate through the menu items.WE CREATE TRANSFORMATIONSTATE OF THE ART SENSORY WELLNESS CENTER START YOUR JOURNEY FOR ONLY $59\n",
      "\n",
      "\n",
      "\n",
      "\n",
      "\n",
      "UNLOCK YOUR HIGHEST POTENTIALReality Center is a state of the art sensory  wellness center and digital psychedelic lab based in Santa Monica, California. By combining ancient philosophies and modern science, we are able to address a wide array of mental, physical and emotional issues in a truly one of a kind experience.SNEAK PEEK - CLICK PLAY\n",
      "\n",
      "Our Reality Managers are experts in the field and will make sure you have a safe and inspired experience at the Reality Center.Want to try our new Online Voice Analysis Platform? Use the frequencies in your voice to generate personalized binaural meditations from the comfort of your own home! Get on the list for early access.Enter your email hereSign Up For Beta TestingWe will contact you with more details soon!HOME\n",
      "ABOUT\n",
      "PROCESS\n",
      "BOOK EXPERIENCE\n",
      "PACKAGES\n",
      "INITATIVES\n",
      "GIFT CARD\n",
      "TERMS OF SERVICE\n",
      "PRIVACY POLICY© 2024 Reality Center, LLC. All Rights Reserved.Located in the heart of Santa Monica • (310) 963-7690  • info@realitymgmt.com\n",
      " bottom of page\n",
      "\n",
      "FEATURED INTrends w/ BenefitsTHE EXPERIENCELaying on a vibrating liquid or foam bed, pulsing lights and synchronized sounds take you on a deep journey into your consciousness.\n",
      " \n",
      "This experience safely takes the nervous system out of fight or flight, allowing for:​\n",
      "\n",
      "Reduced Stress and Anxiety \n",
      "\n",
      "\n",
      "Improved Breathing & Blood Flow\n",
      "\n",
      "\n",
      "Better Creativity & Inspiration\n",
      "\n",
      "\n",
      "Better Sleep\n",
      "\n",
      "\n",
      "Pain Relief\n",
      "\n",
      "Improved Focus\n",
      "\n",
      "Trauma Release\n",
      "\n",
      "\n",
      "Nervous System Reset\n",
      "\n",
      "\n",
      "Self Love\n",
      "\n",
      "BOOK YOUR SESSION\n",
      "\n",
      "\n",
      "\n",
      "\n",
      "\n",
      "\n",
      "\n",
      "\n",
      "\n",
      "\n",
      "\n",
      "\n",
      "\n",
      "\n",
      "\n",
      "\n",
      "\n",
      "\n",
      "\n",
      "\n",
      "\n",
      "\n",
      "\n",
      "\n",
      "\n",
      "\n",
      " TESTIMONIALS\"One of the most advanced tools for consciousness integration ever developed.\"\n",
      "-Tony RobbinsCHECK OUT OUR REVIEWS!WHAT IS SENSORY WELLNESS?​\n",
      "Our Sensory Wellness Therapy uses frequency technologies to stimulate the nervous system’s natural healing mechanisms.\n",
      "\n",
      "This process scientifically synchronizes your senses through light, sound and vibration to induce deep states of relaxation and inspiration, while simultaneously providing a neurological reset.  \n",
      " \n",
      "When the body enters this harmonic state, it is known as Sensory Resonance. \n",
      "This enhances meditation, increases performance, shortens rehabilitation, stimulates health and improves the attitude of any user.  BOOK YOUR SESSION\n",
      "\n",
      "\n",
      "\n",
      "\n",
      "\n",
      "\"THE FUTURE OF MEDICINE, WILL BE THE MEDICINE OF FREQUENCIES.\"\n",
      "- Albert EinsteinVOICE ANALYSISOur analysis technology uses the frequencies in your voice to create personalized program for your session.  Work with an expert facilitator in this one-of-a-kind guided experience.\n",
      "​\n",
      "​LEARN MORE\n",
      "\n",
      "\n",
      "\n",
      "\n",
      "\n",
      "CHANGE YOUR REALITY75% of our clients report a reduction of stress and better sleep after their first session. Book 30 minutes for a quick reset or multiple sessions for full nervous system balancing.\u001b[0m\u001b[32;1m\u001b[1;3mReality Center is a state-of-the-art sensory wellness center and digital psychedelic lab based in Santa Monica, California. They combine ancient philosophies and modern science to address a wide array of mental, physical, and emotional issues in a unique experience. The center offers sensory wellness therapy using frequency technologies to stimulate the nervous system's natural healing mechanisms. This therapy synchronizes the senses through light, sound, and vibration to induce deep states of relaxation and inspiration while providing a neurological reset. The experience at Reality Center includes laying on a vibrating liquid or foam bed with pulsing lights and synchronized sounds that take individuals on a deep journey into their consciousness. This experience aims to reduce stress and anxiety, improve breathing and blood flow, enhance creativity and inspiration, promote better sleep, provide pain relief, improve focus, release trauma, reset the nervous system, and promote self-love. Clients have reported a reduction in stress and better sleep after their sessions at Reality Center.\u001b[0m\n",
      "\n",
      "\u001b[1m> Finished chain.\u001b[0m\n"
     ]
    },
    {
     "data": {
      "text/plain": [
       "\"Reality Center is a state-of-the-art sensory wellness center and digital psychedelic lab based in Santa Monica, California. They combine ancient philosophies and modern science to address a wide array of mental, physical, and emotional issues in a unique experience. The center offers sensory wellness therapy using frequency technologies to stimulate the nervous system's natural healing mechanisms. This therapy synchronizes the senses through light, sound, and vibration to induce deep states of relaxation and inspiration while providing a neurological reset. The experience at Reality Center includes laying on a vibrating liquid or foam bed with pulsing lights and synchronized sounds that take individuals on a deep journey into their consciousness. This experience aims to reduce stress and anxiety, improve breathing and blood flow, enhance creativity and inspiration, promote better sleep, provide pain relief, improve focus, release trauma, reset the nervous system, and promote self-love. Clients have reported a reduction in stress and better sleep after their sessions at Reality Center.\""
      ]
     },
     "execution_count": 24,
     "metadata": {},
     "output_type": "execute_result"
    }
   ],
   "source": [
    "from langchain_community.document_loaders import WebBaseLoader\n",
    "from langchain_community.vectorstores import FAISS\n",
    "from langchain_openai import OpenAIEmbeddings\n",
    "from langchain_text_splitters import RecursiveCharacterTextSplitter\n",
    "from langchain.tools.retriever import create_retriever_tool\n",
    "\n",
    "from langchain.memory import ConversationBufferMemory #memory\n",
    "memory = ConversationBufferMemory(memory_key=\"chat_history\", return_messages=True)\n",
    "\n",
    "loader=WebBaseLoader(\"https://www.realitymgmt.com/\")\n",
    "docs=loader.load()\n",
    "documents=RecursiveCharacterTextSplitter(chunk_size=1000,chunk_overlap=200).split_documents(docs)\n",
    "vectordb=FAISS.from_documents(documents,OpenAIEmbeddings())\n",
    "retriever=vectordb.as_retriever()\n",
    "retriever\n",
    "\n",
    "retriever_tool=create_retriever_tool(retriever,\"realitycenter_search\",\n",
    "                      \"Search for information about Reality Center. For any questions about Reality Center, you must use this tool!\")\n",
    "tools=[wiki,arxiv,retriever_tool]\n",
    "\n",
    "\n",
    "### Agents\n",
    "from langchain.agents import create_openai_tools_agent\n",
    "agent=create_openai_tools_agent(llm,tools,prompt)\n",
    "\n",
    "## Agent Executer\n",
    "from langchain.agents import AgentExecutor\n",
    "agent_executor=AgentExecutor(agent=agent,tools=tools,verbose=True, memory=memory)\n",
    "\n",
    "agent_executor.invoke({\"input\":\"Tell me about Reality Center\"})[\"output\"]"
   ]
  },
  {
   "cell_type": "code",
   "execution_count": 22,
   "metadata": {},
   "outputs": [
    {
     "name": "stdout",
     "output_type": "stream",
     "text": [
      "input_variables=['agent_scratchpad', 'input'] input_types={'chat_history': typing.List[typing.Union[langchain_core.messages.ai.AIMessage, langchain_core.messages.human.HumanMessage, langchain_core.messages.chat.ChatMessage, langchain_core.messages.system.SystemMessage, langchain_core.messages.function.FunctionMessage, langchain_core.messages.tool.ToolMessage]], 'agent_scratchpad': typing.List[typing.Union[langchain_core.messages.ai.AIMessage, langchain_core.messages.human.HumanMessage, langchain_core.messages.chat.ChatMessage, langchain_core.messages.system.SystemMessage, langchain_core.messages.function.FunctionMessage, langchain_core.messages.tool.ToolMessage]]} metadata={'lc_hub_owner': 'hwchase17', 'lc_hub_repo': 'openai-functions-agent', 'lc_hub_commit_hash': 'a1655024b06afbd95d17449f21316291e0726f13dcfaf990cc0d18087ad689a5'} messages=[SystemMessagePromptTemplate(prompt=PromptTemplate(input_variables=[], template='You are a helpful assistant')), MessagesPlaceholder(variable_name='chat_history', optional=True), HumanMessagePromptTemplate(prompt=PromptTemplate(input_variables=['input'], template='{input}')), MessagesPlaceholder(variable_name='agent_scratchpad')]\n"
     ]
    }
   ],
   "source": [
    "print(prompt)"
   ]
  },
  {
   "cell_type": "code",
   "execution_count": 34,
   "metadata": {},
   "outputs": [
    {
     "ename": "KeyError",
     "evalue": "'tools'",
     "output_type": "error",
     "traceback": [
      "\u001b[0;31m---------------------------------------------------------------------------\u001b[0m",
      "\u001b[0;31mKeyError\u001b[0m                                  Traceback (most recent call last)",
      "Cell \u001b[0;32mIn[34], line 29\u001b[0m\n\u001b[1;32m     27\u001b[0m \u001b[39m## Agent Executer\u001b[39;00m\n\u001b[1;32m     28\u001b[0m \u001b[39mfrom\u001b[39;00m \u001b[39mlangchain\u001b[39;00m\u001b[39m.\u001b[39;00m\u001b[39magents\u001b[39;00m \u001b[39mimport\u001b[39;00m AgentExecutor\n\u001b[0;32m---> 29\u001b[0m agent_executor\u001b[39m=\u001b[39mAgentExecutor(agent\u001b[39m=\u001b[39;49magent,tools\u001b[39m=\u001b[39;49mtools,verbose\u001b[39m=\u001b[39;49m\u001b[39mTrue\u001b[39;49;00m, memory\u001b[39m=\u001b[39;49mmemory)\n\u001b[1;32m     31\u001b[0m agent_executor\u001b[39m.\u001b[39minvoke({\u001b[39m\"\u001b[39m\u001b[39minput\u001b[39m\u001b[39m\"\u001b[39m:\u001b[39m\"\u001b[39m\u001b[39mTell me about Reality Center\u001b[39m\u001b[39m\"\u001b[39m})[\u001b[39m\"\u001b[39m\u001b[39moutput\u001b[39m\u001b[39m\"\u001b[39m]\n",
      "File \u001b[0;32m~/Documents/Updated-Langchain/venv/lib/python3.10/site-packages/langchain_core/load/serializable.py:120\u001b[0m, in \u001b[0;36mSerializable.__init__\u001b[0;34m(self, **kwargs)\u001b[0m\n\u001b[1;32m    119\u001b[0m \u001b[39mdef\u001b[39;00m \u001b[39m__init__\u001b[39m(\u001b[39mself\u001b[39m, \u001b[39m*\u001b[39m\u001b[39m*\u001b[39mkwargs: Any) \u001b[39m-\u001b[39m\u001b[39m>\u001b[39m \u001b[39mNone\u001b[39;00m:\n\u001b[0;32m--> 120\u001b[0m     \u001b[39msuper\u001b[39;49m()\u001b[39m.\u001b[39;49m\u001b[39m__init__\u001b[39;49m(\u001b[39m*\u001b[39;49m\u001b[39m*\u001b[39;49mkwargs)\n\u001b[1;32m    121\u001b[0m     \u001b[39mself\u001b[39m\u001b[39m.\u001b[39m_lc_kwargs \u001b[39m=\u001b[39m kwargs\n",
      "File \u001b[0;32m~/Documents/Updated-Langchain/venv/lib/python3.10/site-packages/pydantic/v1/main.py:339\u001b[0m, in \u001b[0;36mBaseModel.__init__\u001b[0;34m(__pydantic_self__, **data)\u001b[0m\n\u001b[1;32m    333\u001b[0m \u001b[39m\u001b[39m\u001b[39m\"\"\"\u001b[39;00m\n\u001b[1;32m    334\u001b[0m \u001b[39mCreate a new model by parsing and validating input data from keyword arguments.\u001b[39;00m\n\u001b[1;32m    335\u001b[0m \n\u001b[1;32m    336\u001b[0m \u001b[39mRaises ValidationError if the input data cannot be parsed to form a valid model.\u001b[39;00m\n\u001b[1;32m    337\u001b[0m \u001b[39m\"\"\"\u001b[39;00m\n\u001b[1;32m    338\u001b[0m \u001b[39m# Uses something other than `self` the first arg to allow \"self\" as a settable attribute\u001b[39;00m\n\u001b[0;32m--> 339\u001b[0m values, fields_set, validation_error \u001b[39m=\u001b[39m validate_model(__pydantic_self__\u001b[39m.\u001b[39;49m\u001b[39m__class__\u001b[39;49m, data)\n\u001b[1;32m    340\u001b[0m \u001b[39mif\u001b[39;00m validation_error:\n\u001b[1;32m    341\u001b[0m     \u001b[39mraise\u001b[39;00m validation_error\n",
      "File \u001b[0;32m~/Documents/Updated-Langchain/venv/lib/python3.10/site-packages/pydantic/v1/main.py:1100\u001b[0m, in \u001b[0;36mvalidate_model\u001b[0;34m(model, input_data, cls)\u001b[0m\n\u001b[1;32m   1098\u001b[0m     \u001b[39mcontinue\u001b[39;00m\n\u001b[1;32m   1099\u001b[0m \u001b[39mtry\u001b[39;00m:\n\u001b[0;32m-> 1100\u001b[0m     values \u001b[39m=\u001b[39m validator(cls_, values)\n\u001b[1;32m   1101\u001b[0m \u001b[39mexcept\u001b[39;00m (\u001b[39mValueError\u001b[39;00m, \u001b[39mTypeError\u001b[39;00m, \u001b[39mAssertionError\u001b[39;00m) \u001b[39mas\u001b[39;00m exc:\n\u001b[1;32m   1102\u001b[0m     errors\u001b[39m.\u001b[39mappend(ErrorWrapper(exc, loc\u001b[39m=\u001b[39mROOT_KEY))\n",
      "File \u001b[0;32m~/Documents/Updated-Langchain/venv/lib/python3.10/site-packages/langchain/agents/agent.py:980\u001b[0m, in \u001b[0;36mAgentExecutor.validate_tools\u001b[0;34m(cls, values)\u001b[0m\n\u001b[1;32m    978\u001b[0m \u001b[39m\u001b[39m\u001b[39m\"\"\"Validate that tools are compatible with agent.\"\"\"\u001b[39;00m\n\u001b[1;32m    979\u001b[0m agent \u001b[39m=\u001b[39m values[\u001b[39m\"\u001b[39m\u001b[39magent\u001b[39m\u001b[39m\"\u001b[39m]\n\u001b[0;32m--> 980\u001b[0m tools \u001b[39m=\u001b[39m values[\u001b[39m\"\u001b[39;49m\u001b[39mtools\u001b[39;49m\u001b[39m\"\u001b[39;49m]\n\u001b[1;32m    981\u001b[0m allowed_tools \u001b[39m=\u001b[39m agent\u001b[39m.\u001b[39mget_allowed_tools()\n\u001b[1;32m    982\u001b[0m \u001b[39mif\u001b[39;00m allowed_tools \u001b[39mis\u001b[39;00m \u001b[39mnot\u001b[39;00m \u001b[39mNone\u001b[39;00m:\n",
      "\u001b[0;31mKeyError\u001b[0m: 'tools'"
     ]
    }
   ],
   "source": [
    "from langchain_community.document_loaders import WebBaseLoader\n",
    "from langchain_community.vectorstores import FAISS\n",
    "from langchain_openai import OpenAIEmbeddings\n",
    "from langchain_text_splitters import RecursiveCharacterTextSplitter\n",
    "from langchain.tools.retriever import create_retriever_tool\n",
    "\n",
    "from langchain.memory import ConversationBufferMemory #memory\n",
    "memory = ConversationBufferMemory(memory_key=\"chat_history\", return_messages=True)\n",
    "\n",
    "\n",
    "def search(input):\n",
    "    loader=WebBaseLoader(\"https://www.realitymgmt.com/\")\n",
    "    docs=loader.load()\n",
    "    documents=RecursiveCharacterTextSplitter(chunk_size=1000,chunk_overlap=200).split_documents(docs)\n",
    "    vectordb=FAISS.from_documents(documents,OpenAIEmbeddings())\n",
    "    vector = vectordb.similarity_search(input)\n",
    "    return f\"{vector[0].metadata['page']}\"\n",
    "\n",
    "\n",
    "tools=[wiki,arxiv,search]\n",
    "\n",
    "\n",
    "### Agents\n",
    "from langchain.agents import create_openai_tools_agent\n",
    "agent=create_openai_tools_agent(llm,tools,prompt)\n",
    "\n",
    "## Agent Executer\n",
    "from langchain.agents import AgentExecutor\n",
    "agent_executor=AgentExecutor(agent=agent,tools=tools,verbose=True, memory=memory)\n",
    "\n",
    "agent_executor.invoke({\"input\":\"Tell me about Reality Center\"})[\"output\"]"
   ]
  },
  {
   "cell_type": "code",
   "execution_count": 45,
   "metadata": {},
   "outputs": [],
   "source": [
    "def search(input):\n",
    "    loader=WebBaseLoader(\"https://www.realitymgmt.com/\")\n",
    "    docs=loader.load()\n",
    "    documents=RecursiveCharacterTextSplitter(chunk_size=1000,chunk_overlap=200).split_documents(docs)\n",
    "    vectordb=FAISS.from_documents(documents,OpenAIEmbeddings())\n",
    "    vector = vectordb.similarity_search(input, k=4)\n",
    "    return f\"{vector}\"\n",
    "x =search('whats is reality center')"
   ]
  },
  {
   "cell_type": "code",
   "execution_count": 49,
   "metadata": {},
   "outputs": [
    {
     "data": {
      "text/plain": [
       "'[Document(page_content=\\'Reality Center | Sensory Wellness Therapy | Santa Monica\\\\n\\\\n\\\\n\\\\n\\\\n\\\\n\\\\n\\\\n\\\\n\\\\n\\\\n\\\\n\\\\n\\\\n\\\\n\\\\n\\\\n\\\\n\\\\n\\\\n\\\\n\\\\n\\\\n\\\\n\\\\n\\\\n\\\\n\\\\n\\\\n\\\\n\\\\n\\\\n\\\\n\\\\n\\\\n\\\\n\\\\ntop of pageJOIN OUR COMMUNITY AND UNLOCK ACCESS TO EXCLUSIVE OFFERS & EVENTS! CLICK HERELog InHOMEABOUTPROCESSBOOK EXPERIENCEPACKAGESINITIATIVESAffiliatesWorkplace WellnessSupport A VeteranGIFT CARDFAQCONTACTMoreUse tab to navigate through the menu items.WE CREATE TRANSFORMATIONSTATE OF THE ART SENSORY WELLNESS CENTER\\\\xa0START YOUR JOURNEY FOR ONLY $59\\\\n\\\\n\\\\n\\\\n\\\\n\\\\nUNLOCK YOUR HIGHEST POTENTIALReality Center is a state of the art sensory\\\\xa0 wellness center and digital psychedelic lab based in Santa Monica, California. By combining ancient philosophies and modern science, we are able to address a wide array of mental, physical and emotional issues in a truly one of a kind experience.SNEAK PEEK - CLICK PLAY\\', metadata={\\'source\\': \\'https://www.realitymgmt.com/\\', \\'title\\': \\'Reality Center | Sensory Wellness Therapy | Santa Monica\\', \\'description\\': \\'Reality Center is a state of the art sensory wellness center and digital psychedelic lab based in Santa Monica, California. By combining ancient philosophies and modern science, we are able to address a wide array of mental, physical and emotional issues in a truly one of a kind experience.\\', \\'language\\': \\'en\\'}), Document(page_content=\\'Our Reality Managers are experts in the field and will make sure you have a safe and inspired experience at the Reality Center.Want to try our new Online Voice Analysis Platform?\\\\xa0Use the frequencies in your voice to generate personalized binaural meditations from the comfort of your own home! Get on the list for early access.Enter your email hereSign Up For Beta TestingWe will contact you with more details soon!HOME\\\\nABOUT\\\\nPROCESS\\\\nBOOK EXPERIENCE\\\\nPACKAGES\\\\nINITATIVES\\\\nGIFT CARD\\\\nTERMS OF SERVICE\\\\nPRIVACY POLICY© 2024 Reality Center, LLC. All Rights Reserved.Located in the heart of Santa Monica •\\\\xa0(310) 963-7690\\\\xa0 • info@realitymgmt.com\\\\n\\\\xa0bottom of page\\', metadata={\\'source\\': \\'https://www.realitymgmt.com/\\', \\'title\\': \\'Reality Center | Sensory Wellness Therapy | Santa Monica\\', \\'description\\': \\'Reality Center is a state of the art sensory wellness center and digital psychedelic lab based in Santa Monica, California. By combining ancient philosophies and modern science, we are able to address a wide array of mental, physical and emotional issues in a truly one of a kind experience.\\', \\'language\\': \\'en\\'}), Document(page_content=\\'FEATURED INTrends w/ BenefitsTHE EXPERIENCELaying on a vibrating liquid or foam bed, pulsing lights and synchronized sounds take you on a deep journey into your consciousness.\\\\n\\\\xa0\\\\nThis experience safely takes the nervous system out of fight or flight, allowing for:\\\\u200b\\\\n\\\\nReduced Stress and Anxiety\\\\xa0\\\\n\\\\n\\\\nImproved Breathing & Blood Flow\\\\n\\\\n\\\\nBetter Creativity & Inspiration\\\\n\\\\n\\\\nBetter Sleep\\\\n\\\\n\\\\nPain Relief\\\\n\\\\nImproved Focus\\\\n\\\\nTrauma Release\\\\n\\\\n\\\\nNervous System Reset\\\\n\\\\n\\\\nSelf Love\\\\n\\\\nBOOK YOUR SESSION\\\\n\\\\n\\\\n\\\\n\\\\n\\\\n\\\\n\\\\n\\\\n\\\\n\\\\n\\\\n\\\\n\\\\n\\\\n\\\\n\\\\n\\\\n\\\\n\\\\n\\\\n\\\\n\\\\n\\\\n\\\\n\\\\n\\\\n\\\\xa0TESTIMONIALS\"One of the most advanced tools for consciousness integration ever developed.\"\\\\n-Tony RobbinsCHECK OUT OUR REVIEWS!WHAT IS SENSORY WELLNESS?\\\\u200b\\\\nOur Sensory Wellness Therapy uses frequency technologies to stimulate the nervous system’s natural healing mechanisms.\\', metadata={\\'source\\': \\'https://www.realitymgmt.com/\\', \\'title\\': \\'Reality Center | Sensory Wellness Therapy | Santa Monica\\', \\'description\\': \\'Reality Center is a state of the art sensory wellness center and digital psychedelic lab based in Santa Monica, California. By combining ancient philosophies and modern science, we are able to address a wide array of mental, physical and emotional issues in a truly one of a kind experience.\\', \\'language\\': \\'en\\'}), Document(page_content=\\'This process scientifically synchronizes your senses through light, sound and vibration to induce deep states of relaxation and inspiration, while simultaneously providing a neurological reset. \\\\xa0\\\\n\\\\xa0\\\\nWhen the body enters this harmonic state, it is known as Sensory Resonance.\\\\xa0\\\\nThis enhances meditation, increases performance, shortens rehabilitation, stimulates health and improves the attitude of any user. \\\\xa0BOOK YOUR SESSION\\\\n\\\\n\\\\n\\\\n\\\\n\\\\n\"THE FUTURE OF MEDICINE, WILL BE THE MEDICINE OF FREQUENCIES.\"\\\\n- Albert EinsteinVOICE ANALYSISOur analysis technology uses the frequencies in your voice to create personalized program for your session.\\\\xa0 Work with an expert facilitator in this one-of-a-kind guided experience.\\\\n\\\\u200b\\\\n\\\\u200bLEARN MORE\\\\n\\\\n\\\\n\\\\n\\\\n\\\\nCHANGE YOUR REALITY75% of our clients report a reduction of stress and better sleep after their first session. Book 30 minutes for a quick reset or multiple sessions for full nervous system balancing.\\', metadata={\\'source\\': \\'https://www.realitymgmt.com/\\', \\'title\\': \\'Reality Center | Sensory Wellness Therapy | Santa Monica\\', \\'description\\': \\'Reality Center is a state of the art sensory wellness center and digital psychedelic lab based in Santa Monica, California. By combining ancient philosophies and modern science, we are able to address a wide array of mental, physical and emotional issues in a truly one of a kind experience.\\', \\'language\\': \\'en\\'})]'"
      ]
     },
     "execution_count": 49,
     "metadata": {},
     "output_type": "execute_result"
    }
   ],
   "source": [
    "x"
   ]
  },
  {
   "cell_type": "code",
   "execution_count": 47,
   "metadata": {},
   "outputs": [
    {
     "ename": "AttributeError",
     "evalue": "'str' object has no attribute 'metadata'",
     "output_type": "error",
     "traceback": [
      "\u001b[0;31m---------------------------------------------------------------------------\u001b[0m",
      "\u001b[0;31mAttributeError\u001b[0m                            Traceback (most recent call last)",
      "Cell \u001b[0;32mIn[47], line 1\u001b[0m\n\u001b[0;32m----> 1\u001b[0m x\u001b[39m.\u001b[39;49mmetadata[\u001b[39m'\u001b[39m\u001b[39mpage\u001b[39m\u001b[39m'\u001b[39m]\n",
      "\u001b[0;31mAttributeError\u001b[0m: 'str' object has no attribute 'metadata'"
     ]
    }
   ],
   "source": [
    "x.metadata['page']"
   ]
  },
  {
   "cell_type": "code",
   "execution_count": null,
   "metadata": {},
   "outputs": [],
   "source": []
  }
 ],
 "metadata": {
  "kernelspec": {
   "display_name": "Python 3",
   "language": "python",
   "name": "python3"
  },
  "language_info": {
   "codemirror_mode": {
    "name": "ipython",
    "version": 3
   },
   "file_extension": ".py",
   "mimetype": "text/x-python",
   "name": "python",
   "nbconvert_exporter": "python",
   "pygments_lexer": "ipython3",
   "version": "3.10.0"
  }
 },
 "nbformat": 4,
 "nbformat_minor": 2
}
