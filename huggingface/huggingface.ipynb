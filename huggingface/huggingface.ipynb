{
 "cells": [
  {
   "cell_type": "code",
   "execution_count": 1,
   "metadata": {},
   "outputs": [],
   "source": [
    "from langchain_community.document_loaders import PyPDFLoader\n",
    "from langchain_community.document_loaders import PyPDFDirectoryLoader\n",
    "from langchain.text_splitter import RecursiveCharacterTextSplitter\n",
    "from langchain_community.vectorstores import FAISS\n",
    "\n",
    "from langchain_community.embeddings import HuggingFaceBgeEmbeddings\n",
    "from langchain.prompts import PromptTemplate\n",
    "\n",
    "from langchain.chains import RetrievalQA\n",
    "\n"
   ]
  },
  {
   "cell_type": "code",
   "execution_count": 2,
   "metadata": {},
   "outputs": [
    {
     "data": {
      "text/plain": [
       "Document(page_content='Health Insurance Coverage Status and Type \\nby Geography: 2021 and 2022\\nAmerican Community Survey Briefs\\nACSBR-015Issued September 2023Douglas Conway and Breauna Branch\\nINTRODUCTION\\nDemographic shifts as well as economic and govern-\\nment policy changes can affect people’s access to health coverage. For example, between 2021 and 2022, the labor market continued to improve, which may have affected private coverage in the United States \\nduring that time.\\n1 Public policy changes included \\nthe renewal of the Public Health Emergency, which \\nallowed Medicaid enrollees to remain covered under the Continuous Enrollment Provision.\\n2 The American \\nRescue Plan (ARP) enhanced Marketplace premium subsidies for those with incomes above 400 percent of the poverty level as well as for unemployed people.\\n3', metadata={'source': 'us_census/acsbr-015.pdf', 'page': 0})"
      ]
     },
     "execution_count": 2,
     "metadata": {},
     "output_type": "execute_result"
    }
   ],
   "source": [
    "## Read the ppdfs from the folder\n",
    "loader=PyPDFDirectoryLoader(\"./us_census\")\n",
    "\n",
    "documents=loader.load()\n",
    "\n",
    "text_splitter=RecursiveCharacterTextSplitter(chunk_size=1000,chunk_overlap=200)\n",
    "\n",
    "final_documents=text_splitter.split_documents(documents)\n",
    "final_documents[0]"
   ]
  },
  {
   "cell_type": "code",
   "execution_count": 3,
   "metadata": {},
   "outputs": [
    {
     "data": {
      "text/plain": [
       "316"
      ]
     },
     "execution_count": 3,
     "metadata": {},
     "output_type": "execute_result"
    }
   ],
   "source": [
    "len(final_documents)"
   ]
  },
  {
   "cell_type": "code",
   "execution_count": 4,
   "metadata": {},
   "outputs": [
    {
     "name": "stderr",
     "output_type": "stream",
     "text": [
      "/Users/josephmata/Documents/Updated-Langchain/venv/lib/python3.10/site-packages/tqdm/auto.py:21: TqdmWarning: IProgress not found. Please update jupyter and ipywidgets. See https://ipywidgets.readthedocs.io/en/stable/user_install.html\n",
      "  from .autonotebook import tqdm as notebook_tqdm\n"
     ]
    }
   ],
   "source": [
    "## Embedding Using Huggingface\n",
    "huggingface_embeddings=HuggingFaceBgeEmbeddings(\n",
    "    model_name=\"BAAI/bge-small-en-v1.5\",      #sentence-transformers/all-MiniLM-l6-v2\n",
    "    model_kwargs={'device':'cpu'},\n",
    "    encode_kwargs={'normalize_embeddings':True}\n",
    "\n",
    ")"
   ]
  },
  {
   "cell_type": "code",
   "execution_count": 9,
   "metadata": {},
   "outputs": [
    {
     "name": "stdout",
     "output_type": "stream",
     "text": [
      "[-8.46568644e-02 -1.19098993e-02 -3.37892659e-02  2.94559151e-02\n",
      "  5.19159846e-02  5.73839583e-02 -4.10017818e-02  2.74268240e-02\n",
      " -1.05128199e-01 -1.58056188e-02  7.94858932e-02  5.64318858e-02\n",
      " -1.31765315e-02 -3.41544189e-02  5.81602892e-03  4.72547784e-02\n",
      " -1.30747007e-02  3.12993000e-03 -3.44226025e-02  3.08406446e-02\n",
      " -4.09086347e-02  3.52737829e-02 -2.43761651e-02 -4.35831770e-02\n",
      "  2.41503585e-02  1.31986784e-02 -4.84450860e-03  1.92347933e-02\n",
      " -5.43912761e-02 -1.42735049e-01  5.15530072e-03  2.93115526e-02\n",
      " -5.60810864e-02 -8.53536930e-03  3.14141288e-02  2.76736729e-02\n",
      " -2.06188187e-02  8.24231282e-02  4.15425301e-02  5.79655133e-02\n",
      " -3.71587127e-02  6.26160763e-03 -2.41389982e-02 -5.61794965e-03\n",
      " -2.51715295e-02  5.04971156e-03 -2.52800919e-02 -2.91945087e-03\n",
      " -8.24047532e-03 -5.69604412e-02  2.30822805e-02 -5.54220332e-03\n",
      "  5.11555672e-02  6.09937571e-02  6.49766326e-02 -5.38514331e-02\n",
      "  2.19109729e-02 -2.54194327e-02 -4.49223109e-02  4.22458947e-02\n",
      "  4.75252159e-02  7.23251316e-04 -2.61084497e-01  9.30173397e-02\n",
      "  1.13597764e-02  4.90669087e-02 -1.06287049e-02 -8.08727928e-03\n",
      " -1.53562408e-02 -5.33786006e-02 -6.89967275e-02  4.75178435e-02\n",
      " -5.68595976e-02  9.38638020e-03  4.24065739e-02  2.54346430e-02\n",
      "  9.67095513e-03  7.90798012e-03  2.25160997e-02  1.91005529e-03\n",
      "  3.06091607e-02  2.43991911e-02 -1.34115415e-02 -4.77400944e-02\n",
      "  4.89940159e-02 -9.49416235e-02  5.62894009e-02 -4.76261079e-02\n",
      "  2.81447303e-02 -2.54329201e-02 -3.84951495e-02  1.00940028e-02\n",
      "  1.90574079e-04  3.36625502e-02  1.00181885e-02  2.83524077e-02\n",
      " -2.68968497e-03 -6.96363440e-03 -3.54914665e-02  3.42758894e-01\n",
      " -1.94496159e-02  1.43988086e-02 -5.68816625e-03  1.71480961e-02\n",
      " -2.88606365e-03 -5.81653304e-02  6.35187724e-04  5.17297955e-03\n",
      "  2.06331406e-02  1.65708307e-02  2.15096679e-02 -2.38795839e-02\n",
      "  2.89275330e-02  4.67318930e-02 -3.56104560e-02 -1.05079189e-02\n",
      "  3.70704532e-02  1.57502480e-02  9.43095386e-02 -2.50715278e-02\n",
      " -9.55961086e-03  1.78566054e-02 -9.41781979e-03 -4.57858630e-02\n",
      "  1.82930548e-02  5.81431612e-02  4.94311340e-02  1.46350682e-01\n",
      "  2.16057692e-02 -3.92896160e-02  1.03241250e-01 -3.48300487e-02\n",
      " -6.61870511e-03  7.07988208e-03  9.26990528e-04  4.49867686e-03\n",
      " -2.89777592e-02  4.02418897e-02 -5.23189642e-03  4.59962003e-02\n",
      "  4.23973287e-03 -4.83794091e-03 -3.23239388e-03 -1.41072899e-01\n",
      " -3.76811475e-02  1.83623895e-01 -2.96609402e-02  4.90660742e-02\n",
      "  3.90551724e-02 -1.57757681e-02 -3.86351049e-02  4.65631001e-02\n",
      " -2.43486147e-02  3.57695557e-02 -3.54947373e-02  2.36265976e-02\n",
      " -3.41989653e-04  3.11703607e-02 -2.39355993e-02 -5.94757907e-02\n",
      "  6.06259108e-02 -3.81902158e-02 -7.04255179e-02  1.42479632e-02\n",
      "  3.34432200e-02 -3.85254882e-02 -1.71951391e-02 -7.12288767e-02\n",
      "  2.64976323e-02  1.09496033e-02  1.32650416e-02  3.89528163e-02\n",
      "  1.60355102e-02 -3.17630097e-02  1.02013700e-01  2.92911977e-02\n",
      " -2.29205769e-02 -8.38050898e-03 -1.72172841e-02 -6.78820834e-02\n",
      "  5.39415563e-03 -2.32347604e-02 -6.07406870e-02 -3.86575945e-02\n",
      " -1.54306451e-02 -3.84983420e-02 -5.02867587e-02  5.04235178e-02\n",
      "  4.94898148e-02 -1.41083244e-02 -2.98146228e-03  9.76480806e-05\n",
      " -6.59190342e-02  3.01006716e-02 -5.46591706e-04 -1.64787825e-02\n",
      " -5.21614589e-02 -3.30223702e-03  4.75748181e-02 -3.40808332e-02\n",
      " -2.98660006e-02  2.75014844e-02  5.90203283e-03 -2.64039636e-03\n",
      " -1.61242820e-02  2.05222759e-02  1.21104931e-02 -5.49781956e-02\n",
      "  5.10389507e-02 -7.92089663e-03  7.25201610e-03  3.51751149e-02\n",
      "  3.66276689e-02  5.67714567e-04  2.60788556e-02  2.50971559e-02\n",
      "  1.14480881e-02 -2.54925098e-02  1.96417868e-02  2.84220185e-02\n",
      "  2.82554068e-02  6.57489821e-02  9.26554203e-02 -2.68629730e-01\n",
      " -8.90558003e-04  3.16916639e-03  5.08356141e-03 -6.42100796e-02\n",
      " -4.56614792e-02 -4.62259874e-02  3.60924490e-02  8.29056185e-03\n",
      "  8.92349333e-02  5.68021797e-02  6.91058207e-03 -1.08684404e-02\n",
      "  9.36060622e-02  1.03680538e-02 -8.60929862e-02  1.77331977e-02\n",
      " -2.00802535e-02 -1.85124967e-02  5.62409346e-04 -9.38337762e-03\n",
      "  7.76062021e-03 -5.37273586e-02 -2.30028369e-02  7.48890638e-02\n",
      " -1.29692964e-02  6.53717294e-02 -4.24983129e-02 -7.10293651e-02\n",
      " -1.56803485e-02 -6.23028241e-02  5.36034591e-02 -6.53213775e-03\n",
      " -1.15985498e-01  6.70968443e-02  1.93366874e-02 -6.67827874e-02\n",
      " -2.01757695e-03 -6.27636984e-02 -2.95005459e-02 -2.71986462e-02\n",
      "  4.49796803e-02 -6.61587119e-02  2.13751085e-02 -2.94077788e-02\n",
      " -5.71503229e-02  4.05282602e-02  7.11039156e-02 -6.80165440e-02\n",
      "  2.11908706e-02  1.30515285e-02 -2.91152894e-02 -2.25581899e-02\n",
      " -1.60188861e-02  3.20554264e-02 -5.89460321e-02 -2.97131967e-02\n",
      "  3.42681669e-02 -1.58376209e-02 -9.31772217e-03  3.59834470e-02\n",
      "  3.65344458e-03  4.73319702e-02 -1.06235510e-02 -8.69736262e-03\n",
      " -4.38010283e-02  5.94555447e-03 -2.41493639e-02 -7.79940411e-02\n",
      "  1.46542424e-02  1.05613852e-02  5.45365401e-02 -3.17896679e-02\n",
      " -1.26762791e-02  7.92559050e-03 -1.38133075e-02  5.01396842e-02\n",
      " -7.28575699e-03 -5.23704058e-03 -5.32640927e-02  4.78208698e-02\n",
      " -5.38353696e-02  1.11437626e-02  3.96674126e-02 -1.93496607e-02\n",
      "  9.94821358e-03 -3.53479641e-03  3.58562870e-03 -9.61503759e-03\n",
      "  2.15324201e-02 -1.82350483e-02 -2.15188581e-02 -1.38835805e-02\n",
      " -1.76698789e-02  3.37972277e-04 -3.84851446e-04 -2.25800514e-01\n",
      "  4.51243110e-02  1.53376553e-02 -1.76967271e-02 -1.42526096e-02\n",
      " -7.00283004e-03 -3.13725136e-02  2.13673641e-03 -9.28343926e-03\n",
      " -1.66987162e-02  4.66264449e-02  7.71809742e-02  1.26697004e-01\n",
      " -1.83595624e-02 -1.39636779e-02 -1.23303104e-03  5.93339205e-02\n",
      " -1.37461070e-03  1.98233258e-02 -2.92636007e-02  4.96656895e-02\n",
      " -6.07207008e-02  1.53544784e-01 -4.67309505e-02  1.97029039e-02\n",
      " -7.67833218e-02 -7.73231918e-03  3.71618643e-02 -3.00591122e-02\n",
      "  8.30263551e-03  2.06259228e-02  1.97465974e-03  3.39764394e-02\n",
      " -1.70869473e-02  4.84796129e-02  1.20781781e-02  1.24999192e-02\n",
      "  5.61724380e-02  9.88543592e-03  2.13879198e-02 -4.25293669e-02\n",
      " -1.94036961e-02  2.47838441e-02  1.37260687e-02  6.41119704e-02\n",
      " -2.84481030e-02 -4.64116670e-02 -5.36255501e-02 -6.95171038e-05\n",
      "  6.45709857e-02 -4.32021421e-04 -1.32470746e-02  5.85134141e-03\n",
      "  1.48595823e-02 -5.41847348e-02 -2.02038828e-02 -5.98262697e-02\n",
      "  3.67028862e-02  1.43321301e-03 -8.64464510e-03  2.90671568e-02\n",
      "  4.38365787e-02 -7.64943063e-02  1.55717796e-02  6.65831268e-02]\n",
      "(384,)\n"
     ]
    }
   ],
   "source": [
    "import  numpy as np\n",
    "print(np.array(huggingface_embeddings.embed_query(final_documents[0].page_content)))\n",
    "print(np.array(huggingface_embeddings.embed_query(final_documents[0].page_content)).shape)"
   ]
  },
  {
   "cell_type": "code",
   "execution_count": 5,
   "metadata": {},
   "outputs": [],
   "source": [
    "## VectorStore Creation\n",
    "vectorstore=FAISS.from_documents(final_documents[:120],huggingface_embeddings)"
   ]
  },
  {
   "cell_type": "code",
   "execution_count": 6,
   "metadata": {},
   "outputs": [
    {
     "name": "stdout",
     "output_type": "stream",
     "text": [
      "2 U.S. Census Bureau\n",
      "WHAT IS HEALTH INSURANCE COVERAGE?\n",
      "This brief presents state-level estimates of health insurance coverage \n",
      "using data from the American Community Survey (ACS). The  \n",
      "U.S. Census Bureau conducts the ACS throughout the year; the \n",
      "survey asks respondents to report their coverage at the time of \n",
      "interview. The resulting measure of health insurance coverage, \n",
      "therefore, reflects an annual average of current comprehensive \n",
      "health insurance coverage status.* This uninsured rate measures a \n",
      "different concept than the measure based on the Current Population \n",
      "Survey Annual Social and Economic Supplement (CPS ASEC). \n",
      "For reporting purposes, the ACS broadly classifies health insurance \n",
      "coverage as private insurance or public insurance. The ACS defines \n",
      "private health insurance as a plan provided through an employer \n",
      "or a union, coverage purchased directly by an individual from an \n",
      "insurance company or through an exchange (such as healthcare.\n"
     ]
    }
   ],
   "source": [
    "## Query using Similarity Search\n",
    "query=\"WHAT IS HEALTH INSURANCE COVERAGE?\"\n",
    "relevant_docments=vectorstore.similarity_search(query)\n",
    "\n",
    "print(relevant_docments[0].page_content)"
   ]
  },
  {
   "cell_type": "code",
   "execution_count": 23,
   "metadata": {},
   "outputs": [
    {
     "name": "stdout",
     "output_type": "stream",
     "text": [
      "tags=['FAISS', 'HuggingFaceBgeEmbeddings'] vectorstore=<langchain_community.vectorstores.faiss.FAISS object at 0x7fba583592d0> search_kwargs={'k': 3}\n"
     ]
    }
   ],
   "source": [
    "retriever=vectorstore.as_retriever(search_type=\"similarity\",search_kwargs={\"k\":3})\n",
    "print(retriever)"
   ]
  },
  {
   "cell_type": "code",
   "execution_count": 22,
   "metadata": {},
   "outputs": [],
   "source": [
    "import os\n",
    "os.environ['HUGGINGFACEHUB_API_TOKEN']=os.getenv('HUGGINGFACEHUB_API_TOKEN')\n",
    "\n"
   ]
  },
  {
   "cell_type": "markdown",
   "metadata": {},
   "source": [
    "The Hugging Face Hub is an platform with over 350k models, 75k datasets, and 150k demo apps (Spaces), all open source and publicly available, in an online platform where people can easily collaborate and build ML together."
   ]
  },
  {
   "cell_type": "code",
   "execution_count": 25,
   "metadata": {},
   "outputs": [
    {
     "data": {
      "text/plain": [
       "'What is the health insurance coverage?\\n\\nThe health insurance coverage is not mentioned in the text.'"
      ]
     },
     "execution_count": 25,
     "metadata": {},
     "output_type": "execute_result"
    }
   ],
   "source": [
    "from langchain_community.llms import HuggingFaceHub\n",
    "\n",
    "#accept conditions on huggingface https://huggingface.co/mistralai/Mistral-7B-v0.1.\n",
    "hf=HuggingFaceHub(\n",
    "    #repo_id=\"mistralai/Mistral-7B-v0.1\",\n",
    "    repo_id=\"TinyLlama/TinyLlama-1.1B-Chat-v0.6\",\n",
    "\n",
    "    model_kwargs={\"temperature\":0.1,\"max_length\":500}\n",
    "\n",
    ")\n",
    "query=\"What is the health insurance coverage?\"\n",
    "hf.invoke(query)"
   ]
  },
  {
   "cell_type": "code",
   "execution_count": 26,
   "metadata": {},
   "outputs": [],
   "source": [
    "x= hf.invoke(query)"
   ]
  },
  {
   "cell_type": "code",
   "execution_count": 27,
   "metadata": {},
   "outputs": [
    {
     "data": {
      "text/plain": [
       "'What is the health insurance coverage?\\n\\nThe health insurance coverage is not mentioned in the text.'"
      ]
     },
     "execution_count": 27,
     "metadata": {},
     "output_type": "execute_result"
    }
   ],
   "source": [
    "os.environ['HUGGINGFACEHUB_API_TOKEN']=os.getenv('HUGGINGFACEHUB_API_TOKEN')\n",
    "hf=HuggingFaceHub(\n",
    "    repo_id=\"TinyLlama/TinyLlama-1.1B-Chat-v0.6\",\n",
    "    model_kwargs={\"temperature\":0.1,\"max_length\":500}\n",
    ")\n",
    "query=\"What is the health insurance coverage?\""
   ]
  },
  {
   "cell_type": "code",
   "execution_count": 40,
   "metadata": {},
   "outputs": [],
   "source": [
    "from langchain_community.llms import HuggingFacePipeline\n"
   ]
  },
  {
   "cell_type": "code",
   "execution_count": 20,
   "metadata": {},
   "outputs": [
    {
     "name": "stderr",
     "output_type": "stream",
     "text": [
      "Downloading shards:   0%|          | 0/2 [00:00<?, ?it/s]/Users/josephmata/Documents/Updated-Langchain/venv/lib/python3.10/site-packages/huggingface_hub/file_download.py:1003: UserWarning: Not enough free disk space to download the file. The expected file size is: 9942.98 MB. The target location /Users/josephmata/.cache/huggingface/hub only has 6017.41 MB free disk space.\n",
      "  warnings.warn(\n",
      "/Users/josephmata/Documents/Updated-Langchain/venv/lib/python3.10/site-packages/huggingface_hub/file_download.py:1003: UserWarning: Not enough free disk space to download the file. The expected file size is: 9942.98 MB. The target location /Users/josephmata/.cache/huggingface/hub/models--mistralai--Mistral-7B-v0.1/blobs only has 6017.41 MB free disk space.\n",
      "  warnings.warn(\n",
      "Downloading shards:   0%|          | 0/2 [01:36<?, ?it/s]\n"
     ]
    },
    {
     "ename": "OSError",
     "evalue": "[Errno 28] No space left on device",
     "output_type": "error",
     "traceback": [
      "\u001b[0;31m---------------------------------------------------------------------------\u001b[0m",
      "\u001b[0;31mOSError\u001b[0m                                   Traceback (most recent call last)",
      "Cell \u001b[0;32mIn[20], line 4\u001b[0m\n\u001b[1;32m      1\u001b[0m \u001b[39m#Hugging Face models can be run locally through the HuggingFacePipeline class.\u001b[39;00m\n\u001b[1;32m      2\u001b[0m \u001b[39mfrom\u001b[39;00m \u001b[39mlangchain_community\u001b[39;00m\u001b[39m.\u001b[39;00m\u001b[39mllms\u001b[39;00m\u001b[39m.\u001b[39;00m\u001b[39mhuggingface_pipeline\u001b[39;00m \u001b[39mimport\u001b[39;00m HuggingFacePipeline\n\u001b[0;32m----> 4\u001b[0m hf \u001b[39m=\u001b[39m HuggingFacePipeline\u001b[39m.\u001b[39;49mfrom_model_id(\n\u001b[1;32m      5\u001b[0m     model_id\u001b[39m=\u001b[39;49m\u001b[39m\"\u001b[39;49m\u001b[39mmistralai/Mistral-7B-v0.1\u001b[39;49m\u001b[39m\"\u001b[39;49m,\n\u001b[1;32m      6\u001b[0m     \u001b[39m#model_id=\"gpt2\",\u001b[39;49;00m\n\u001b[1;32m      7\u001b[0m     task\u001b[39m=\u001b[39;49m\u001b[39m\"\u001b[39;49m\u001b[39mtext-generation\u001b[39;49m\u001b[39m\"\u001b[39;49m,\n\u001b[1;32m      8\u001b[0m     pipeline_kwargs\u001b[39m=\u001b[39;49m{\u001b[39m\"\u001b[39;49m\u001b[39mtemperature\u001b[39;49m\u001b[39m\"\u001b[39;49m: \u001b[39m.1\u001b[39;49m, \u001b[39m\"\u001b[39;49m\u001b[39mmax_new_tokens\u001b[39;49m\u001b[39m\"\u001b[39;49m: \u001b[39m300\u001b[39;49m}\n\u001b[1;32m      9\u001b[0m )\n\u001b[1;32m     11\u001b[0m llm \u001b[39m=\u001b[39m hf \n\u001b[1;32m     12\u001b[0m llm\u001b[39m.\u001b[39minvoke(query)\n",
      "File \u001b[0;32m~/Documents/Updated-Langchain/venv/lib/python3.10/site-packages/langchain_community/llms/huggingface_pipeline.py:127\u001b[0m, in \u001b[0;36mHuggingFacePipeline.from_model_id\u001b[0;34m(cls, model_id, task, backend, device, device_map, model_kwargs, pipeline_kwargs, batch_size, **kwargs)\u001b[0m\n\u001b[1;32m    123\u001b[0m             model \u001b[39m=\u001b[39m OVModelForCausalLM\u001b[39m.\u001b[39mfrom_pretrained(\n\u001b[1;32m    124\u001b[0m                 model_id, export\u001b[39m=\u001b[39m\u001b[39mTrue\u001b[39;00m, \u001b[39m*\u001b[39m\u001b[39m*\u001b[39m_model_kwargs\n\u001b[1;32m    125\u001b[0m             )\n\u001b[1;32m    126\u001b[0m     \u001b[39melse\u001b[39;00m:\n\u001b[0;32m--> 127\u001b[0m         model \u001b[39m=\u001b[39m AutoModelForCausalLM\u001b[39m.\u001b[39;49mfrom_pretrained(\n\u001b[1;32m    128\u001b[0m             model_id, \u001b[39m*\u001b[39;49m\u001b[39m*\u001b[39;49m_model_kwargs\n\u001b[1;32m    129\u001b[0m         )\n\u001b[1;32m    130\u001b[0m \u001b[39melif\u001b[39;00m task \u001b[39min\u001b[39;00m (\u001b[39m\"\u001b[39m\u001b[39mtext2text-generation\u001b[39m\u001b[39m\"\u001b[39m, \u001b[39m\"\u001b[39m\u001b[39msummarization\u001b[39m\u001b[39m\"\u001b[39m, \u001b[39m\"\u001b[39m\u001b[39mtranslation\u001b[39m\u001b[39m\"\u001b[39m):\n\u001b[1;32m    131\u001b[0m     \u001b[39mif\u001b[39;00m backend \u001b[39m==\u001b[39m \u001b[39m\"\u001b[39m\u001b[39mopenvino\u001b[39m\u001b[39m\"\u001b[39m:\n",
      "File \u001b[0;32m~/Documents/Updated-Langchain/venv/lib/python3.10/site-packages/transformers/models/auto/auto_factory.py:563\u001b[0m, in \u001b[0;36m_BaseAutoModelClass.from_pretrained\u001b[0;34m(cls, pretrained_model_name_or_path, *model_args, **kwargs)\u001b[0m\n\u001b[1;32m    561\u001b[0m \u001b[39melif\u001b[39;00m \u001b[39mtype\u001b[39m(config) \u001b[39min\u001b[39;00m \u001b[39mcls\u001b[39m\u001b[39m.\u001b[39m_model_mapping\u001b[39m.\u001b[39mkeys():\n\u001b[1;32m    562\u001b[0m     model_class \u001b[39m=\u001b[39m _get_model_class(config, \u001b[39mcls\u001b[39m\u001b[39m.\u001b[39m_model_mapping)\n\u001b[0;32m--> 563\u001b[0m     \u001b[39mreturn\u001b[39;00m model_class\u001b[39m.\u001b[39;49mfrom_pretrained(\n\u001b[1;32m    564\u001b[0m         pretrained_model_name_or_path, \u001b[39m*\u001b[39;49mmodel_args, config\u001b[39m=\u001b[39;49mconfig, \u001b[39m*\u001b[39;49m\u001b[39m*\u001b[39;49mhub_kwargs, \u001b[39m*\u001b[39;49m\u001b[39m*\u001b[39;49mkwargs\n\u001b[1;32m    565\u001b[0m     )\n\u001b[1;32m    566\u001b[0m \u001b[39mraise\u001b[39;00m \u001b[39mValueError\u001b[39;00m(\n\u001b[1;32m    567\u001b[0m     \u001b[39mf\u001b[39m\u001b[39m\"\u001b[39m\u001b[39mUnrecognized configuration class \u001b[39m\u001b[39m{\u001b[39;00mconfig\u001b[39m.\u001b[39m\u001b[39m__class__\u001b[39m\u001b[39m}\u001b[39;00m\u001b[39m for this kind of AutoModel: \u001b[39m\u001b[39m{\u001b[39;00m\u001b[39mcls\u001b[39m\u001b[39m.\u001b[39m\u001b[39m__name__\u001b[39m\u001b[39m}\u001b[39;00m\u001b[39m.\u001b[39m\u001b[39m\\n\u001b[39;00m\u001b[39m\"\u001b[39m\n\u001b[1;32m    568\u001b[0m     \u001b[39mf\u001b[39m\u001b[39m\"\u001b[39m\u001b[39mModel type should be one of \u001b[39m\u001b[39m{\u001b[39;00m\u001b[39m'\u001b[39m\u001b[39m, \u001b[39m\u001b[39m'\u001b[39m\u001b[39m.\u001b[39mjoin(c\u001b[39m.\u001b[39m\u001b[39m__name__\u001b[39m\u001b[39m \u001b[39m\u001b[39mfor\u001b[39;00m\u001b[39m \u001b[39mc\u001b[39m \u001b[39m\u001b[39min\u001b[39;00m\u001b[39m \u001b[39m\u001b[39mcls\u001b[39m\u001b[39m.\u001b[39m_model_mapping\u001b[39m.\u001b[39mkeys())\u001b[39m}\u001b[39;00m\u001b[39m.\u001b[39m\u001b[39m\"\u001b[39m\n\u001b[1;32m    569\u001b[0m )\n",
      "File \u001b[0;32m~/Documents/Updated-Langchain/venv/lib/python3.10/site-packages/transformers/modeling_utils.py:3436\u001b[0m, in \u001b[0;36mPreTrainedModel.from_pretrained\u001b[0;34m(cls, pretrained_model_name_or_path, config, cache_dir, ignore_mismatched_sizes, force_download, local_files_only, token, revision, use_safetensors, *model_args, **kwargs)\u001b[0m\n\u001b[1;32m   3433\u001b[0m \u001b[39m# We'll need to download and cache each checkpoint shard if the checkpoint is sharded.\u001b[39;00m\n\u001b[1;32m   3434\u001b[0m \u001b[39mif\u001b[39;00m is_sharded:\n\u001b[1;32m   3435\u001b[0m     \u001b[39m# rsolved_archive_file becomes a list of files that point to the different checkpoint shards in this case.\u001b[39;00m\n\u001b[0;32m-> 3436\u001b[0m     resolved_archive_file, sharded_metadata \u001b[39m=\u001b[39m get_checkpoint_shard_files(\n\u001b[1;32m   3437\u001b[0m         pretrained_model_name_or_path,\n\u001b[1;32m   3438\u001b[0m         resolved_archive_file,\n\u001b[1;32m   3439\u001b[0m         cache_dir\u001b[39m=\u001b[39;49mcache_dir,\n\u001b[1;32m   3440\u001b[0m         force_download\u001b[39m=\u001b[39;49mforce_download,\n\u001b[1;32m   3441\u001b[0m         proxies\u001b[39m=\u001b[39;49mproxies,\n\u001b[1;32m   3442\u001b[0m         resume_download\u001b[39m=\u001b[39;49mresume_download,\n\u001b[1;32m   3443\u001b[0m         local_files_only\u001b[39m=\u001b[39;49mlocal_files_only,\n\u001b[1;32m   3444\u001b[0m         token\u001b[39m=\u001b[39;49mtoken,\n\u001b[1;32m   3445\u001b[0m         user_agent\u001b[39m=\u001b[39;49muser_agent,\n\u001b[1;32m   3446\u001b[0m         revision\u001b[39m=\u001b[39;49mrevision,\n\u001b[1;32m   3447\u001b[0m         subfolder\u001b[39m=\u001b[39;49msubfolder,\n\u001b[1;32m   3448\u001b[0m         _commit_hash\u001b[39m=\u001b[39;49mcommit_hash,\n\u001b[1;32m   3449\u001b[0m     )\n\u001b[1;32m   3451\u001b[0m \u001b[39mif\u001b[39;00m (\n\u001b[1;32m   3452\u001b[0m     is_safetensors_available()\n\u001b[1;32m   3453\u001b[0m     \u001b[39mand\u001b[39;00m \u001b[39misinstance\u001b[39m(resolved_archive_file, \u001b[39mstr\u001b[39m)\n\u001b[1;32m   3454\u001b[0m     \u001b[39mand\u001b[39;00m resolved_archive_file\u001b[39m.\u001b[39mendswith(\u001b[39m\"\u001b[39m\u001b[39m.safetensors\u001b[39m\u001b[39m\"\u001b[39m)\n\u001b[1;32m   3455\u001b[0m ):\n\u001b[1;32m   3456\u001b[0m     \u001b[39mwith\u001b[39;00m safe_open(resolved_archive_file, framework\u001b[39m=\u001b[39m\u001b[39m\"\u001b[39m\u001b[39mpt\u001b[39m\u001b[39m\"\u001b[39m) \u001b[39mas\u001b[39;00m f:\n",
      "File \u001b[0;32m~/Documents/Updated-Langchain/venv/lib/python3.10/site-packages/transformers/utils/hub.py:1038\u001b[0m, in \u001b[0;36mget_checkpoint_shard_files\u001b[0;34m(pretrained_model_name_or_path, index_filename, cache_dir, force_download, proxies, resume_download, local_files_only, token, user_agent, revision, subfolder, _commit_hash, **deprecated_kwargs)\u001b[0m\n\u001b[1;32m   1035\u001b[0m \u001b[39mfor\u001b[39;00m shard_filename \u001b[39min\u001b[39;00m tqdm(shard_filenames, desc\u001b[39m=\u001b[39m\u001b[39m\"\u001b[39m\u001b[39mDownloading shards\u001b[39m\u001b[39m\"\u001b[39m, disable\u001b[39m=\u001b[39m\u001b[39mnot\u001b[39;00m show_progress_bar):\n\u001b[1;32m   1036\u001b[0m     \u001b[39mtry\u001b[39;00m:\n\u001b[1;32m   1037\u001b[0m         \u001b[39m# Load from URL\u001b[39;00m\n\u001b[0;32m-> 1038\u001b[0m         cached_filename \u001b[39m=\u001b[39m cached_file(\n\u001b[1;32m   1039\u001b[0m             pretrained_model_name_or_path,\n\u001b[1;32m   1040\u001b[0m             shard_filename,\n\u001b[1;32m   1041\u001b[0m             cache_dir\u001b[39m=\u001b[39;49mcache_dir,\n\u001b[1;32m   1042\u001b[0m             force_download\u001b[39m=\u001b[39;49mforce_download,\n\u001b[1;32m   1043\u001b[0m             proxies\u001b[39m=\u001b[39;49mproxies,\n\u001b[1;32m   1044\u001b[0m             resume_download\u001b[39m=\u001b[39;49mresume_download,\n\u001b[1;32m   1045\u001b[0m             local_files_only\u001b[39m=\u001b[39;49mlocal_files_only,\n\u001b[1;32m   1046\u001b[0m             token\u001b[39m=\u001b[39;49mtoken,\n\u001b[1;32m   1047\u001b[0m             user_agent\u001b[39m=\u001b[39;49muser_agent,\n\u001b[1;32m   1048\u001b[0m             revision\u001b[39m=\u001b[39;49mrevision,\n\u001b[1;32m   1049\u001b[0m             subfolder\u001b[39m=\u001b[39;49msubfolder,\n\u001b[1;32m   1050\u001b[0m             _commit_hash\u001b[39m=\u001b[39;49m_commit_hash,\n\u001b[1;32m   1051\u001b[0m         )\n\u001b[1;32m   1052\u001b[0m     \u001b[39m# We have already dealt with RepositoryNotFoundError and RevisionNotFoundError when getting the index, so\u001b[39;00m\n\u001b[1;32m   1053\u001b[0m     \u001b[39m# we don't have to catch them here.\u001b[39;00m\n\u001b[1;32m   1054\u001b[0m     \u001b[39mexcept\u001b[39;00m EntryNotFoundError:\n",
      "File \u001b[0;32m~/Documents/Updated-Langchain/venv/lib/python3.10/site-packages/transformers/utils/hub.py:398\u001b[0m, in \u001b[0;36mcached_file\u001b[0;34m(path_or_repo_id, filename, cache_dir, force_download, resume_download, proxies, token, revision, local_files_only, subfolder, repo_type, user_agent, _raise_exceptions_for_gated_repo, _raise_exceptions_for_missing_entries, _raise_exceptions_for_connection_errors, _commit_hash, **deprecated_kwargs)\u001b[0m\n\u001b[1;32m    395\u001b[0m user_agent \u001b[39m=\u001b[39m http_user_agent(user_agent)\n\u001b[1;32m    396\u001b[0m \u001b[39mtry\u001b[39;00m:\n\u001b[1;32m    397\u001b[0m     \u001b[39m# Load from URL or cache if already cached\u001b[39;00m\n\u001b[0;32m--> 398\u001b[0m     resolved_file \u001b[39m=\u001b[39m hf_hub_download(\n\u001b[1;32m    399\u001b[0m         path_or_repo_id,\n\u001b[1;32m    400\u001b[0m         filename,\n\u001b[1;32m    401\u001b[0m         subfolder\u001b[39m=\u001b[39;49m\u001b[39mNone\u001b[39;49;00m \u001b[39mif\u001b[39;49;00m \u001b[39mlen\u001b[39;49m(subfolder) \u001b[39m==\u001b[39;49m \u001b[39m0\u001b[39;49m \u001b[39melse\u001b[39;49;00m subfolder,\n\u001b[1;32m    402\u001b[0m         repo_type\u001b[39m=\u001b[39;49mrepo_type,\n\u001b[1;32m    403\u001b[0m         revision\u001b[39m=\u001b[39;49mrevision,\n\u001b[1;32m    404\u001b[0m         cache_dir\u001b[39m=\u001b[39;49mcache_dir,\n\u001b[1;32m    405\u001b[0m         user_agent\u001b[39m=\u001b[39;49muser_agent,\n\u001b[1;32m    406\u001b[0m         force_download\u001b[39m=\u001b[39;49mforce_download,\n\u001b[1;32m    407\u001b[0m         proxies\u001b[39m=\u001b[39;49mproxies,\n\u001b[1;32m    408\u001b[0m         resume_download\u001b[39m=\u001b[39;49mresume_download,\n\u001b[1;32m    409\u001b[0m         token\u001b[39m=\u001b[39;49mtoken,\n\u001b[1;32m    410\u001b[0m         local_files_only\u001b[39m=\u001b[39;49mlocal_files_only,\n\u001b[1;32m    411\u001b[0m     )\n\u001b[1;32m    412\u001b[0m \u001b[39mexcept\u001b[39;00m GatedRepoError \u001b[39mas\u001b[39;00m e:\n\u001b[1;32m    413\u001b[0m     resolved_file \u001b[39m=\u001b[39m _get_cache_file_to_return(path_or_repo_id, full_filename, cache_dir, revision)\n",
      "File \u001b[0;32m~/Documents/Updated-Langchain/venv/lib/python3.10/site-packages/huggingface_hub/utils/_validators.py:119\u001b[0m, in \u001b[0;36mvalidate_hf_hub_args.<locals>._inner_fn\u001b[0;34m(*args, **kwargs)\u001b[0m\n\u001b[1;32m    116\u001b[0m \u001b[39mif\u001b[39;00m check_use_auth_token:\n\u001b[1;32m    117\u001b[0m     kwargs \u001b[39m=\u001b[39m smoothly_deprecate_use_auth_token(fn_name\u001b[39m=\u001b[39mfn\u001b[39m.\u001b[39m\u001b[39m__name__\u001b[39m, has_token\u001b[39m=\u001b[39mhas_token, kwargs\u001b[39m=\u001b[39mkwargs)\n\u001b[0;32m--> 119\u001b[0m \u001b[39mreturn\u001b[39;00m fn(\u001b[39m*\u001b[39;49margs, \u001b[39m*\u001b[39;49m\u001b[39m*\u001b[39;49mkwargs)\n",
      "File \u001b[0;32m~/Documents/Updated-Langchain/venv/lib/python3.10/site-packages/huggingface_hub/file_download.py:1492\u001b[0m, in \u001b[0;36mhf_hub_download\u001b[0;34m(repo_id, filename, subfolder, repo_type, revision, library_name, library_version, cache_dir, local_dir, local_dir_use_symlinks, user_agent, force_download, force_filename, proxies, etag_timeout, resume_download, token, local_files_only, headers, legacy_cache_layout, endpoint)\u001b[0m\n\u001b[1;32m   1489\u001b[0m         \u001b[39mif\u001b[39;00m local_dir \u001b[39mis\u001b[39;00m \u001b[39mnot\u001b[39;00m \u001b[39mNone\u001b[39;00m:\n\u001b[1;32m   1490\u001b[0m             _check_disk_space(expected_size, local_dir)\n\u001b[0;32m-> 1492\u001b[0m     http_get(\n\u001b[1;32m   1493\u001b[0m         url_to_download,\n\u001b[1;32m   1494\u001b[0m         temp_file,\n\u001b[1;32m   1495\u001b[0m         proxies\u001b[39m=\u001b[39;49mproxies,\n\u001b[1;32m   1496\u001b[0m         resume_size\u001b[39m=\u001b[39;49mresume_size,\n\u001b[1;32m   1497\u001b[0m         headers\u001b[39m=\u001b[39;49mheaders,\n\u001b[1;32m   1498\u001b[0m         expected_size\u001b[39m=\u001b[39;49mexpected_size,\n\u001b[1;32m   1499\u001b[0m         displayed_filename\u001b[39m=\u001b[39;49mfilename,\n\u001b[1;32m   1500\u001b[0m     )\n\u001b[1;32m   1502\u001b[0m \u001b[39mif\u001b[39;00m local_dir \u001b[39mis\u001b[39;00m \u001b[39mNone\u001b[39;00m:\n\u001b[1;32m   1503\u001b[0m     logger\u001b[39m.\u001b[39mdebug(\u001b[39mf\u001b[39m\u001b[39m\"\u001b[39m\u001b[39mStoring \u001b[39m\u001b[39m{\u001b[39;00murl\u001b[39m}\u001b[39;00m\u001b[39m in cache at \u001b[39m\u001b[39m{\u001b[39;00mblob_path\u001b[39m}\u001b[39;00m\u001b[39m\"\u001b[39m)\n",
      "File \u001b[0;32m~/Documents/Updated-Langchain/venv/lib/python3.10/site-packages/huggingface_hub/file_download.py:538\u001b[0m, in \u001b[0;36mhttp_get\u001b[0;34m(url, temp_file, proxies, resume_size, headers, expected_size, displayed_filename, _nb_retries, _tqdm_bar)\u001b[0m\n\u001b[1;32m    536\u001b[0m \u001b[39mif\u001b[39;00m chunk:  \u001b[39m# filter out keep-alive new chunks\u001b[39;00m\n\u001b[1;32m    537\u001b[0m     progress\u001b[39m.\u001b[39mupdate(\u001b[39mlen\u001b[39m(chunk))\n\u001b[0;32m--> 538\u001b[0m     temp_file\u001b[39m.\u001b[39;49mwrite(chunk)\n\u001b[1;32m    539\u001b[0m     new_resume_size \u001b[39m+\u001b[39m\u001b[39m=\u001b[39m \u001b[39mlen\u001b[39m(chunk)\n\u001b[1;32m    540\u001b[0m     \u001b[39m# Some data has been downloaded from the server so we reset the number of retries.\u001b[39;00m\n",
      "File \u001b[0;32m~/Documents/Updated-Langchain/venv/lib/python3.10/tempfile.py:479\u001b[0m, in \u001b[0;36m_TemporaryFileWrapper.__getattr__.<locals>.func_wrapper\u001b[0;34m(*args, **kwargs)\u001b[0m\n\u001b[1;32m    477\u001b[0m \u001b[39m@_functools\u001b[39m\u001b[39m.\u001b[39mwraps(func)\n\u001b[1;32m    478\u001b[0m \u001b[39mdef\u001b[39;00m \u001b[39mfunc_wrapper\u001b[39m(\u001b[39m*\u001b[39margs, \u001b[39m*\u001b[39m\u001b[39m*\u001b[39mkwargs):\n\u001b[0;32m--> 479\u001b[0m     \u001b[39mreturn\u001b[39;00m func(\u001b[39m*\u001b[39;49margs, \u001b[39m*\u001b[39;49m\u001b[39m*\u001b[39;49mkwargs)\n",
      "\u001b[0;31mOSError\u001b[0m: [Errno 28] No space left on device"
     ]
    }
   ],
   "source": [
    "#Hugging Face models can be run locally through the HuggingFacePipeline class.\n",
    "from langchain_community.llms.huggingface_pipeline import HuggingFacePipeline\n",
    "\n",
    "hf = HuggingFacePipeline.from_model_id(\n",
    "    model_id=\"mistralai/Mistral-7B-v0.1\",\n",
    "    #model_id=\"gpt2\",\n",
    "    task=\"text-generation\",\n",
    "    pipeline_kwargs={\"temperature\": .1, \"max_new_tokens\": 300}\n",
    ")\n",
    "\n",
    "llm = hf \n",
    "llm.invoke(query)"
   ]
  },
  {
   "cell_type": "markdown",
   "metadata": {},
   "source": []
  },
  {
   "cell_type": "code",
   "execution_count": 28,
   "metadata": {},
   "outputs": [],
   "source": [
    "query=\"\"\"DIFFERENCES IN THE\n",
    "UNINSURED RATE BY STATE\n",
    "IN 2022\"\"\""
   ]
  },
  {
   "cell_type": "code",
   "execution_count": 29,
   "metadata": {},
   "outputs": [
    {
     "name": "stdout",
     "output_type": "stream",
     "text": [
      "\n",
      "Use the following piece of context to answer the question asked.\n",
      "Please try to provide the answer only based on the context\n",
      "\n",
      "comparison of ACS and CPS ASEC measures \n",
      "of health insurance coverage, refer to < www.\n",
      "census.gov/topics/health/health-insurance/\n",
      "guidance.html >.\n",
      "9 Respondents may have more than one \n",
      "health insurance coverage type at the time \n",
      "of interview. As a result, adding the total \n",
      "number of people with private coverage and \n",
      "the total number with public coverage will \n",
      "sum to more than the total number with any \n",
      "coverage.• From 2021 to 2022, nine states \n",
      "reported increases in private \n",
      "coverage, while seven reported \n",
      "decreases (Appendix Table B-2). \n",
      "DIFFERENCES IN THE \n",
      "UNINSURED RATE BY STATE \n",
      "IN 2022\n",
      "In 2022, uninsured rates at the \n",
      "time of interview ranged across \n",
      "states from a low of 2.4 percent \n",
      "in Massachusetts to a high of 16.6 \n",
      "percent in Texas, compared to the \n",
      "national rate of 8.0 percent.10 Ten \n",
      "of the 15 states with uninsured \n",
      "10 The uninsured rates in the District \n",
      "of Columbia and Massachusetts were not \n",
      "statistically different.rates above the national aver -\n",
      "\n",
      "percent (Appendix Table B-5). \n",
      "Medicaid coverage accounted \n",
      "for a portion of that difference. \n",
      "Medicaid coverage was 22.7 per -\n",
      "cent in the group of states that \n",
      "expanded Medicaid eligibility and \n",
      "18.0 percent in the group of nonex -\n",
      "pansion states.\n",
      "CHANGES IN THE UNINSURED \n",
      "RATE BY STATE FROM 2021 \n",
      "TO 2022\n",
      "From 2021 to 2022, uninsured rates \n",
      "decreased across 27 states, while \n",
      "only Maine had an increase. The \n",
      "uninsured rate in Maine increased \n",
      "from 5.7 percent to 6.6 percent, \n",
      "although it remained below the \n",
      "national average. Maine’s uninsured \n",
      "rate was still below 8.0 percent, \n",
      "21 Douglas Conway and Breauna Branch, \n",
      "“Health Insurance Coverage Status and Type \n",
      "by Geography: 2019 and 2021,” 2022, < www.\n",
      "census.gov/content/dam/Census/library/\n",
      "publications/2022/acs/acsbr-013.pdf >.\n",
      "\n",
      "library/publications/2022/acs/acsbr-013.pdf >.\n",
      "39 In 2022, the private coverage rates were \n",
      "not statistically different in North Dakota and \n",
      "Utah.Figure /five.tab/period.tab\n",
      "Percentage of Uninsured People for the /two.tab/five.tab Most Populous Metropolitan \n",
      "Areas/colon.tab /two.tab/zero.tab/two.tab/one.tab and /two.tab/zero.tab/two.tab/two.tab\n",
      "(Civilian, noninstitutionalized population) /uni00A0\n",
      "* Denotes a statistically signiﬁcant change between 2021 and 2022 at the 90 percent conﬁdence level.\n",
      "Note: For information on conﬁdentiality protection, sampling error, nonsampling error, and deﬁnitions in the American Community\n",
      "Survey, refer to <https://www2.census.gov/programs-surveys/acs/tech_docs/accuracy/ACS_Accuracy_of_Data_2022.pdf>.\n",
      "Source: U.S. Census Bureau, 2021 and 2022 American Community Survey, 1-year estimates. Boston-Cambridge-Newton/comma.tab MA-NH\n",
      "San Francisco-Oakland-Berkeley/comma.tab CA\n",
      "*Detroit-Warren-Dearborn/comma.tab MI\n",
      "Question:DIFFERENCES IN THE\n",
      "UNINSURED RATE BY STATE\n",
      "IN 2022\n",
      "\n",
      "Helpful Answers:\n",
      " 1.\n",
      " 2.\n",
      " 3.\n",
      " 4.\n",
      " 5.\n",
      " 6.\n",
      " 7.\n",
      " 8.\n",
      " 9.\n",
      " 10.\n",
      " 11.\n",
      " 12.\n",
      " 13.\n",
      " 14.\n",
      " 15.\n",
      " 16.\n",
      " 17.\n",
      " 18.\n",
      " 19.\n",
      " 20.\n",
      " 21.\n",
      " 22.\n",
      "\n"
     ]
    }
   ],
   "source": [
    "# Call the QA chain with our query.\n",
    "result = retrievalQA.invoke({\"query\": query})\n",
    "print(result['result'])"
   ]
  },
  {
   "cell_type": "code",
   "execution_count": null,
   "metadata": {},
   "outputs": [],
   "source": []
  },
  {
   "cell_type": "code",
   "execution_count": null,
   "metadata": {},
   "outputs": [],
   "source": []
  }
 ],
 "metadata": {
  "kernelspec": {
   "display_name": "Python 3",
   "language": "python",
   "name": "python3"
  },
  "language_info": {
   "codemirror_mode": {
    "name": "ipython",
    "version": 3
   },
   "file_extension": ".py",
   "mimetype": "text/x-python",
   "name": "python",
   "nbconvert_exporter": "python",
   "pygments_lexer": "ipython3",
   "version": "3.10.0"
  }
 },
 "nbformat": 4,
 "nbformat_minor": 2
}
